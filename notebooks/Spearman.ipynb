{
 "cells": [
  {
   "cell_type": "code",
   "execution_count": 2,
   "metadata": {},
   "outputs": [],
   "source": [
    "import os\n",
    "import re\n",
    "import pandas as pd\n",
    "import numpy as np\n",
    "from scipy.stats import spearmanr"
   ]
  },
  {
   "cell_type": "code",
   "execution_count": 3,
   "metadata": {},
   "outputs": [],
   "source": [
    "GPT4_path = '../calculated files/gpt_pairs_no_relation_'\n",
    "ANS_PATH = '../data/raw/Testing/Phase2Answers'\n",
    "REV_PATH = '../data/reversals.txt'\n",
    "CAT_PATH = '../data/subcategories-list.txt'\n",
    "REP_PATH = '../data/external/tabular_file.xlsx'"
   ]
  },
  {
   "cell_type": "code",
   "execution_count": 4,
   "metadata": {},
   "outputs": [
    {
     "name": "stderr",
     "output_type": "stream",
     "text": [
      "/tmp/ipykernel_4556/881429521.py:13: ParserWarning: Falling back to the 'python' engine because the 'c' engine does not support regex separators (separators > 1 char and different from '\\s+' are interpreted as regex); you can avoid this warning by specifying engine='python'.\n",
      "  answers = pd.read_csv(os.path.join(GPT4_path, 'Phase2Answers-{}_no_least_most_gpt.txt'.format(idx)), sep=', ', names=['pair1', 'pair2', 'pair3', 'pair4', 'least_illustrative', 'most_illustrative'])\n",
      "/tmp/ipykernel_4556/881429521.py:13: ParserWarning: Falling back to the 'python' engine because the 'c' engine does not support regex separators (separators > 1 char and different from '\\s+' are interpreted as regex); you can avoid this warning by specifying engine='python'.\n",
      "  answers = pd.read_csv(os.path.join(GPT4_path, 'Phase2Answers-{}_no_least_most_gpt.txt'.format(idx)), sep=', ', names=['pair1', 'pair2', 'pair3', 'pair4', 'least_illustrative', 'most_illustrative'])\n",
      "/tmp/ipykernel_4556/881429521.py:13: ParserWarning: Falling back to the 'python' engine because the 'c' engine does not support regex separators (separators > 1 char and different from '\\s+' are interpreted as regex); you can avoid this warning by specifying engine='python'.\n",
      "  answers = pd.read_csv(os.path.join(GPT4_path, 'Phase2Answers-{}_no_least_most_gpt.txt'.format(idx)), sep=', ', names=['pair1', 'pair2', 'pair3', 'pair4', 'least_illustrative', 'most_illustrative'])\n",
      "/tmp/ipykernel_4556/881429521.py:13: ParserWarning: Falling back to the 'python' engine because the 'c' engine does not support regex separators (separators > 1 char and different from '\\s+' are interpreted as regex); you can avoid this warning by specifying engine='python'.\n",
      "  answers = pd.read_csv(os.path.join(GPT4_path, 'Phase2Answers-{}_no_least_most_gpt.txt'.format(idx)), sep=', ', names=['pair1', 'pair2', 'pair3', 'pair4', 'least_illustrative', 'most_illustrative'])\n",
      "/tmp/ipykernel_4556/881429521.py:13: ParserWarning: Falling back to the 'python' engine because the 'c' engine does not support regex separators (separators > 1 char and different from '\\s+' are interpreted as regex); you can avoid this warning by specifying engine='python'.\n",
      "  answers = pd.read_csv(os.path.join(GPT4_path, 'Phase2Answers-{}_no_least_most_gpt.txt'.format(idx)), sep=', ', names=['pair1', 'pair2', 'pair3', 'pair4', 'least_illustrative', 'most_illustrative'])\n",
      "/tmp/ipykernel_4556/881429521.py:13: ParserWarning: Falling back to the 'python' engine because the 'c' engine does not support regex separators (separators > 1 char and different from '\\s+' are interpreted as regex); you can avoid this warning by specifying engine='python'.\n",
      "  answers = pd.read_csv(os.path.join(GPT4_path, 'Phase2Answers-{}_no_least_most_gpt.txt'.format(idx)), sep=', ', names=['pair1', 'pair2', 'pair3', 'pair4', 'least_illustrative', 'most_illustrative'])\n",
      "/tmp/ipykernel_4556/881429521.py:13: ParserWarning: Falling back to the 'python' engine because the 'c' engine does not support regex separators (separators > 1 char and different from '\\s+' are interpreted as regex); you can avoid this warning by specifying engine='python'.\n",
      "  answers = pd.read_csv(os.path.join(GPT4_path, 'Phase2Answers-{}_no_least_most_gpt.txt'.format(idx)), sep=', ', names=['pair1', 'pair2', 'pair3', 'pair4', 'least_illustrative', 'most_illustrative'])\n",
      "/tmp/ipykernel_4556/881429521.py:13: ParserWarning: Falling back to the 'python' engine because the 'c' engine does not support regex separators (separators > 1 char and different from '\\s+' are interpreted as regex); you can avoid this warning by specifying engine='python'.\n",
      "  answers = pd.read_csv(os.path.join(GPT4_path, 'Phase2Answers-{}_no_least_most_gpt.txt'.format(idx)), sep=', ', names=['pair1', 'pair2', 'pair3', 'pair4', 'least_illustrative', 'most_illustrative'])\n"
     ]
    }
   ],
   "source": [
    "lst_gpt_dfs = []\n",
    "lst_data_dfs = []\n",
    "rel_mapping = {}\n",
    "lst_files = os.listdir(GPT4_path)\n",
    "\n",
    "for file_name in lst_files:\n",
    "    idx = re.findall('[0-9]+[a-z]', file_name)[0]\n",
    "\n",
    "    data = pd.read_csv(os.path.join(ANS_PATH, 'Phase2Answers-{}.txt'.format(idx)), sep='\\t')\n",
    "    data = data.rename({'# pair1': 'pair1'}, axis='columns')\n",
    "    rel_name = data['user_selected_relation'].unique()[0]\n",
    "\n",
    "    answers = pd.read_csv(os.path.join(GPT4_path, 'Phase2Answers-{}_no_least_most_gpt.txt'.format(idx)), sep=', ', names=['pair1', 'pair2', 'pair3', 'pair4', 'least_illustrative', 'most_illustrative'])\n",
    "    answers['user_selected_relation'] = rel_name\n",
    "    answers['idx'] = idx\n",
    "    lst_gpt_dfs.append(answers)\n",
    "    lst_data_dfs.append(data)\n",
    "\n",
    "    rel_mapping[idx] = rel_name\n",
    "\n",
    "answers = pd.concat(lst_gpt_dfs).reset_index(drop=True)\n",
    "data = pd.concat(lst_data_dfs).reset_index(drop=True)"
   ]
  },
  {
   "cell_type": "code",
   "execution_count": 4,
   "metadata": {},
   "outputs": [
    {
     "data": {
      "text/html": [
       "<div>\n",
       "<style scoped>\n",
       "    .dataframe tbody tr th:only-of-type {\n",
       "        vertical-align: middle;\n",
       "    }\n",
       "\n",
       "    .dataframe tbody tr th {\n",
       "        vertical-align: top;\n",
       "    }\n",
       "\n",
       "    .dataframe thead th {\n",
       "        text-align: right;\n",
       "    }\n",
       "</style>\n",
       "<table border=\"1\" class=\"dataframe\">\n",
       "  <thead>\n",
       "    <tr style=\"text-align: right;\">\n",
       "      <th></th>\n",
       "      <th>pair1</th>\n",
       "      <th>pair2</th>\n",
       "      <th>pair3</th>\n",
       "      <th>pair4</th>\n",
       "      <th>least_illustrative</th>\n",
       "      <th>most_illustrative</th>\n",
       "      <th>user_selected_relation</th>\n",
       "    </tr>\n",
       "  </thead>\n",
       "  <tbody>\n",
       "    <tr>\n",
       "      <th>0</th>\n",
       "      <td>house:bricks</td>\n",
       "      <td>lawn:grass</td>\n",
       "      <td>sock:thread</td>\n",
       "      <td>meal:food</td>\n",
       "      <td>sock:thread</td>\n",
       "      <td>lawn:grass</td>\n",
       "      <td>X is made of / is comprised of Y</td>\n",
       "    </tr>\n",
       "    <tr>\n",
       "      <th>1</th>\n",
       "      <td>house:bricks</td>\n",
       "      <td>lawn:grass</td>\n",
       "      <td>sock:thread</td>\n",
       "      <td>meal:food</td>\n",
       "      <td>meal:food</td>\n",
       "      <td>house:bricks</td>\n",
       "      <td>X is made of / is comprised of Y</td>\n",
       "    </tr>\n",
       "    <tr>\n",
       "      <th>2</th>\n",
       "      <td>house:bricks</td>\n",
       "      <td>lawn:grass</td>\n",
       "      <td>sock:thread</td>\n",
       "      <td>meal:food</td>\n",
       "      <td>meal:food</td>\n",
       "      <td>house:bricks</td>\n",
       "      <td>X is made of / is comprised of Y</td>\n",
       "    </tr>\n",
       "    <tr>\n",
       "      <th>3</th>\n",
       "      <td>house:bricks</td>\n",
       "      <td>lawn:grass</td>\n",
       "      <td>sock:thread</td>\n",
       "      <td>meal:food</td>\n",
       "      <td>lawn:grass</td>\n",
       "      <td>meal:food</td>\n",
       "      <td>X is made of / is comprised of Y</td>\n",
       "    </tr>\n",
       "    <tr>\n",
       "      <th>4</th>\n",
       "      <td>house:bricks</td>\n",
       "      <td>lawn:grass</td>\n",
       "      <td>sock:thread</td>\n",
       "      <td>meal:food</td>\n",
       "      <td>sock:thread</td>\n",
       "      <td>house:bricks</td>\n",
       "      <td>X is made of / is comprised of Y</td>\n",
       "    </tr>\n",
       "  </tbody>\n",
       "</table>\n",
       "</div>"
      ],
      "text/plain": [
       "          pair1       pair2        pair3      pair4 least_illustrative  \\\n",
       "0  house:bricks  lawn:grass  sock:thread  meal:food        sock:thread   \n",
       "1  house:bricks  lawn:grass  sock:thread  meal:food          meal:food   \n",
       "2  house:bricks  lawn:grass  sock:thread  meal:food          meal:food   \n",
       "3  house:bricks  lawn:grass  sock:thread  meal:food         lawn:grass   \n",
       "4  house:bricks  lawn:grass  sock:thread  meal:food        sock:thread   \n",
       "\n",
       "  most_illustrative            user_selected_relation  \n",
       "0        lawn:grass  X is made of / is comprised of Y  \n",
       "1      house:bricks  X is made of / is comprised of Y  \n",
       "2      house:bricks  X is made of / is comprised of Y  \n",
       "3         meal:food  X is made of / is comprised of Y  \n",
       "4      house:bricks  X is made of / is comprised of Y  "
      ]
     },
     "execution_count": 4,
     "metadata": {},
     "output_type": "execute_result"
    }
   ],
   "source": [
    "data.head()"
   ]
  },
  {
   "cell_type": "code",
   "execution_count": 5,
   "metadata": {},
   "outputs": [],
   "source": [
    "def calc_rating_scores(df):\n",
    "\n",
    "    raveled_pairs = df[['pair1', 'pair2', 'pair3', 'pair4']].values.ravel()\n",
    "    all_pairs = np.unique(raveled_pairs)\n",
    "    pair2least = {pair: (df.least_illustrative == pair).sum() for pair in all_pairs}\n",
    "    pair2most = {pair: (df.most_illustrative == pair).sum() for pair in all_pairs}\n",
    "    pair2num = {pair: (raveled_pairs == pair).sum() for pair in all_pairs}\n",
    "\n",
    "    rating_scores = {}\n",
    "    pairs = list(pair2num.keys())\n",
    "\n",
    "    for pair in pairs:\n",
    "        num_least = pair2least[pair]\n",
    "        num_most = pair2most[pair]\n",
    "        num_quest = pair2num[pair]\n",
    "        pct_least = 100 * num_least / num_quest\n",
    "        pct_most = 100 * num_most / num_quest\n",
    "        score = pct_most - pct_least\n",
    "        rating_scores[pair] = score\n",
    "\n",
    "    return rating_scores"
   ]
  },
  {
   "cell_type": "code",
   "execution_count": 6,
   "metadata": {},
   "outputs": [],
   "source": [
    "def calc_spearman(rel_data, tk_data):\n",
    "    name_rel = rel_data.user_selected_relation.unique()[0]\n",
    "    pair2gold = calc_rating_scores(tk_data[tk_data['user_selected_relation'] == name_rel])\n",
    "    pair2test = calc_rating_scores(rel_data)\n",
    "\n",
    "    cor = spearmanr(list(pair2gold.values()),\n",
    "                    list(pair2test.values()))\n",
    "    rho = cor.correlation\n",
    "    pvalue = cor.pvalue\n",
    "\n",
    "    return pd.DataFrame([{'rho': rho, 'pvalue': pvalue}])"
   ]
  },
  {
   "cell_type": "code",
   "execution_count": 7,
   "metadata": {},
   "outputs": [
    {
     "data": {
      "text/html": [
       "<div>\n",
       "<style scoped>\n",
       "    .dataframe tbody tr th:only-of-type {\n",
       "        vertical-align: middle;\n",
       "    }\n",
       "\n",
       "    .dataframe tbody tr th {\n",
       "        vertical-align: top;\n",
       "    }\n",
       "\n",
       "    .dataframe thead th {\n",
       "        text-align: right;\n",
       "    }\n",
       "</style>\n",
       "<table border=\"1\" class=\"dataframe\">\n",
       "  <thead>\n",
       "    <tr style=\"text-align: right;\">\n",
       "      <th></th>\n",
       "      <th></th>\n",
       "      <th>rho</th>\n",
       "      <th>pvalue</th>\n",
       "    </tr>\n",
       "    <tr>\n",
       "      <th>user_selected_relation</th>\n",
       "      <th></th>\n",
       "      <th></th>\n",
       "      <th></th>\n",
       "    </tr>\n",
       "  </thead>\n",
       "  <tbody>\n",
       "    <tr>\n",
       "      <th>X and Y are contrary / opposite to each other</th>\n",
       "      <th>0</th>\n",
       "      <td>0.357606</td>\n",
       "      <td>3.493601e-02</td>\n",
       "    </tr>\n",
       "    <tr>\n",
       "      <th>X is an expression that indicates Y</th>\n",
       "      <th>0</th>\n",
       "      <td>0.738815</td>\n",
       "      <td>5.234404e-08</td>\n",
       "    </tr>\n",
       "    <tr>\n",
       "      <th>X is made of / is comprised of Y</th>\n",
       "      <th>0</th>\n",
       "      <td>0.683619</td>\n",
       "      <td>4.360560e-07</td>\n",
       "    </tr>\n",
       "    <tr>\n",
       "      <th>X is the opposite direction from Y</th>\n",
       "      <th>0</th>\n",
       "      <td>0.796049</td>\n",
       "      <td>1.443225e-07</td>\n",
       "    </tr>\n",
       "    <tr>\n",
       "      <th>a Y is a part of an X</th>\n",
       "      <th>0</th>\n",
       "      <td>0.444778</td>\n",
       "      <td>2.486345e-03</td>\n",
       "    </tr>\n",
       "    <tr>\n",
       "      <th>a Y is one item in a collection/group of X</th>\n",
       "      <th>0</th>\n",
       "      <td>0.667393</td>\n",
       "      <td>1.383984e-06</td>\n",
       "    </tr>\n",
       "    <tr>\n",
       "      <th>an Y receives an X</th>\n",
       "      <th>0</th>\n",
       "      <td>0.583677</td>\n",
       "      <td>1.197870e-04</td>\n",
       "    </tr>\n",
       "    <tr>\n",
       "      <th>someone/something who is X cannot be Y or be in the state of Y</th>\n",
       "      <th>0</th>\n",
       "      <td>0.127958</td>\n",
       "      <td>4.022181e-01</td>\n",
       "    </tr>\n",
       "  </tbody>\n",
       "</table>\n",
       "</div>"
      ],
      "text/plain": [
       "                                                           rho        pvalue\n",
       "user_selected_relation                                                      \n",
       "X and Y are contrary / opposite to each other      0  0.357606  3.493601e-02\n",
       "X is an expression that indicates Y                0  0.738815  5.234404e-08\n",
       "X is made of / is comprised of Y                   0  0.683619  4.360560e-07\n",
       "X is the opposite direction from Y                 0  0.796049  1.443225e-07\n",
       "a Y is a part of an X                              0  0.444778  2.486345e-03\n",
       "a Y is one item in a collection/group of X         0  0.667393  1.383984e-06\n",
       "an Y receives an X                                 0  0.583677  1.197870e-04\n",
       "someone/something who is X cannot be Y or be in... 0  0.127958  4.022181e-01"
      ]
     },
     "execution_count": 7,
     "metadata": {},
     "output_type": "execute_result"
    }
   ],
   "source": [
    "spearman_df = answers.groupby('user_selected_relation').apply(lambda x: calc_spearman(x, data))\n",
    "spearman_df"
   ]
  },
  {
   "cell_type": "code",
   "execution_count": 8,
   "metadata": {},
   "outputs": [
    {
     "data": {
      "text/plain": [
       "0.5499869250341645"
      ]
     },
     "execution_count": 8,
     "metadata": {},
     "output_type": "execute_result"
    }
   ],
   "source": [
    "spearman_coef = spearman_df.rho.mean()\n",
    "spearman_coef"
   ]
  },
  {
   "cell_type": "code",
   "execution_count": 9,
   "metadata": {},
   "outputs": [
    {
     "data": {
      "text/plain": [
       "7"
      ]
     },
     "execution_count": 9,
     "metadata": {},
     "output_type": "execute_result"
    }
   ],
   "source": [
    "num_cat_p5 = len(spearman_df[spearman_df.pvalue < 0.05])\n",
    "num_cat_p5"
   ]
  },
  {
   "cell_type": "code",
   "execution_count": 10,
   "metadata": {},
   "outputs": [
    {
     "data": {
      "text/plain": [
       "6"
      ]
     },
     "execution_count": 10,
     "metadata": {},
     "output_type": "execute_result"
    }
   ],
   "source": [
    "num_cat_p5 = len(spearman_df[spearman_df.pvalue < 0.01])\n",
    "num_cat_p5"
   ]
  },
  {
   "cell_type": "markdown",
   "metadata": {},
   "source": [
    "## Across categories"
   ]
  },
  {
   "cell_type": "code",
   "execution_count": 38,
   "metadata": {},
   "outputs": [],
   "source": [
    "cat_df = pd.read_csv(CAT_PATH, header=None, names=['num', 'let', 'cat', 'sub'])\n",
    "cat_df['idx'] = cat_df['num'].astype(str) + cat_df['let'].apply(lambda x: x.replace(' ', ''))\n",
    "cat_df = cat_df.merge(answers, on='idx', how='left')\n",
    "cat_df = cat_df[['cat', 'user_selected_relation']].dropna().drop_duplicates()\n",
    "cat_df = cat_df.merge(spearman_df.reset_index(), on='user_selected_relation', how='left')\n",
    "cat_df = cat_df.groupby('cat').apply(lambda x: x['rho'].mean())"
   ]
  },
  {
   "cell_type": "code",
   "execution_count": 40,
   "metadata": {},
   "outputs": [
    {
     "data": {
      "text/plain": [
       "cat\n",
       " CASE RELATIONS     0.584\n",
       " CLASS-INCLUSION    0.667\n",
       " CONTRAST           0.577\n",
       " NON-ATTRIBUTE      0.128\n",
       " PART-WHOLE         0.564\n",
       " REFERENCE          0.739\n",
       "dtype: float64"
      ]
     },
     "execution_count": 40,
     "metadata": {},
     "output_type": "execute_result"
    }
   ],
   "source": [
    "cat_df.round(3)"
   ]
  },
  {
   "cell_type": "markdown",
   "metadata": {},
   "source": [
    "## No reversals"
   ]
  },
  {
   "cell_type": "code",
   "execution_count": 41,
   "metadata": {},
   "outputs": [],
   "source": [
    "with open(REV_PATH, 'r') as f:\n",
    "    reversals = f.read()\n",
    "\n",
    "reversals = reversals.split('original:pair --> reversed:pair')[-1]"
   ]
  },
  {
   "cell_type": "code",
   "execution_count": 42,
   "metadata": {},
   "outputs": [],
   "source": [
    "idxs = re.findall('[0-9]+[a-z]', reversals)\n",
    "values = re.findall('--> [A-Z, a-z]+:[A-Z, a-z]+', reversals)\n",
    "values = list(map(lambda x: x.split('--> ')[-1], values))\n",
    "\n",
    "reversal_df = pd.DataFrame({'idxs': idxs, 'pair': values})\n",
    "reversal_df['user_selected_relation'] = reversal_df['idxs'].map(rel_mapping)\n",
    "reversal_df = reversal_df.dropna()\n",
    "reversal_df = reversal_df.drop('idxs', axis=1)"
   ]
  },
  {
   "cell_type": "code",
   "execution_count": 43,
   "metadata": {},
   "outputs": [],
   "source": [
    "def drop_reversals(question):\n",
    "    question['drop'] = 0\n",
    "    rel_name = question['user_selected_relation']\n",
    "    pairs = question[['pair1', 'pair2', 'pair3', 'pair4']]\n",
    "    revs = reversal_df[reversal_df.user_selected_relation == rel_name].pair\n",
    "\n",
    "    if revs.isin(pairs).sum():\n",
    "        question['drop'] = 1\n",
    "    return question\n"
   ]
  },
  {
   "cell_type": "code",
   "execution_count": 44,
   "metadata": {},
   "outputs": [],
   "source": [
    "data_no_rev = data.apply(lambda x: drop_reversals(x), axis=1)\n",
    "data_no_rev = data_no_rev[data_no_rev['drop'] == 0].reset_index(drop=True)\n",
    "data_no_rev.drop('drop', axis=1, inplace=True)\n",
    "\n",
    "answers_no_rev = answers.apply(lambda x: drop_reversals(x), axis=1)\n",
    "answers_no_rev = answers_no_rev[answers_no_rev['drop'] == 0].reset_index(drop=True)\n",
    "answers_no_rev.drop('drop', axis=1, inplace=True)\n"
   ]
  },
  {
   "cell_type": "code",
   "execution_count": 17,
   "metadata": {},
   "outputs": [
    {
     "data": {
      "text/html": [
       "<div>\n",
       "<style scoped>\n",
       "    .dataframe tbody tr th:only-of-type {\n",
       "        vertical-align: middle;\n",
       "    }\n",
       "\n",
       "    .dataframe tbody tr th {\n",
       "        vertical-align: top;\n",
       "    }\n",
       "\n",
       "    .dataframe thead th {\n",
       "        text-align: right;\n",
       "    }\n",
       "</style>\n",
       "<table border=\"1\" class=\"dataframe\">\n",
       "  <thead>\n",
       "    <tr style=\"text-align: right;\">\n",
       "      <th></th>\n",
       "      <th></th>\n",
       "      <th>rho</th>\n",
       "      <th>pvalue</th>\n",
       "    </tr>\n",
       "    <tr>\n",
       "      <th>user_selected_relation</th>\n",
       "      <th></th>\n",
       "      <th></th>\n",
       "      <th></th>\n",
       "    </tr>\n",
       "  </thead>\n",
       "  <tbody>\n",
       "    <tr>\n",
       "      <th>X and Y are contrary / opposite to each other</th>\n",
       "      <th>0</th>\n",
       "      <td>0.353619</td>\n",
       "      <td>0.055237</td>\n",
       "    </tr>\n",
       "    <tr>\n",
       "      <th>X is an expression that indicates Y</th>\n",
       "      <th>0</th>\n",
       "      <td>0.636437</td>\n",
       "      <td>0.000040</td>\n",
       "    </tr>\n",
       "    <tr>\n",
       "      <th>X is made of / is comprised of Y</th>\n",
       "      <th>0</th>\n",
       "      <td>0.678638</td>\n",
       "      <td>0.000003</td>\n",
       "    </tr>\n",
       "    <tr>\n",
       "      <th>X is the opposite direction from Y</th>\n",
       "      <th>0</th>\n",
       "      <td>0.732525</td>\n",
       "      <td>0.000031</td>\n",
       "    </tr>\n",
       "    <tr>\n",
       "      <th>a Y is a part of an X</th>\n",
       "      <th>0</th>\n",
       "      <td>0.485565</td>\n",
       "      <td>0.001728</td>\n",
       "    </tr>\n",
       "    <tr>\n",
       "      <th>a Y is one item in a collection/group of X</th>\n",
       "      <th>0</th>\n",
       "      <td>0.625186</td>\n",
       "      <td>0.000035</td>\n",
       "    </tr>\n",
       "    <tr>\n",
       "      <th>an Y receives an X</th>\n",
       "      <th>0</th>\n",
       "      <td>0.628347</td>\n",
       "      <td>0.000090</td>\n",
       "    </tr>\n",
       "    <tr>\n",
       "      <th>someone/something who is X cannot be Y or be in the state of Y</th>\n",
       "      <th>0</th>\n",
       "      <td>0.171957</td>\n",
       "      <td>0.288694</td>\n",
       "    </tr>\n",
       "  </tbody>\n",
       "</table>\n",
       "</div>"
      ],
      "text/plain": [
       "                                                           rho    pvalue\n",
       "user_selected_relation                                                  \n",
       "X and Y are contrary / opposite to each other      0  0.353619  0.055237\n",
       "X is an expression that indicates Y                0  0.636437  0.000040\n",
       "X is made of / is comprised of Y                   0  0.678638  0.000003\n",
       "X is the opposite direction from Y                 0  0.732525  0.000031\n",
       "a Y is a part of an X                              0  0.485565  0.001728\n",
       "a Y is one item in a collection/group of X         0  0.625186  0.000035\n",
       "an Y receives an X                                 0  0.628347  0.000090\n",
       "someone/something who is X cannot be Y or be in... 0  0.171957  0.288694"
      ]
     },
     "execution_count": 17,
     "metadata": {},
     "output_type": "execute_result"
    }
   ],
   "source": [
    "spearman_no_rev_df = answers_no_rev.groupby('user_selected_relation').apply(lambda x: calc_spearman(x, data_no_rev))\n",
    "spearman_no_rev_df"
   ]
  },
  {
   "cell_type": "code",
   "execution_count": 18,
   "metadata": {},
   "outputs": [
    {
     "data": {
      "text/plain": [
       "0.5390341494360579"
      ]
     },
     "execution_count": 18,
     "metadata": {},
     "output_type": "execute_result"
    }
   ],
   "source": [
    "spearman_no_rev_coef = spearman_no_rev_df.rho.mean()\n",
    "spearman_no_rev_coef"
   ]
  },
  {
   "cell_type": "code",
   "execution_count": 19,
   "metadata": {},
   "outputs": [
    {
     "data": {
      "text/plain": [
       "6"
      ]
     },
     "execution_count": 19,
     "metadata": {},
     "output_type": "execute_result"
    }
   ],
   "source": [
    "num_cat_p5_no_rev = len(spearman_no_rev_df[spearman_no_rev_df.pvalue < 0.05])\n",
    "num_cat_p5_no_rev"
   ]
  },
  {
   "cell_type": "code",
   "execution_count": 20,
   "metadata": {},
   "outputs": [
    {
     "data": {
      "text/plain": [
       "6"
      ]
     },
     "execution_count": 20,
     "metadata": {},
     "output_type": "execute_result"
    }
   ],
   "source": [
    "num_cat_p5_no_rev = len(spearman_no_rev_df[spearman_no_rev_df.pvalue < 0.01])\n",
    "num_cat_p5_no_rev"
   ]
  },
  {
   "cell_type": "markdown",
   "metadata": {},
   "source": [
    "## RSME"
   ]
  },
  {
   "cell_type": "code",
   "execution_count": 72,
   "metadata": {},
   "outputs": [],
   "source": [
    "pair2gold = calc_rating_scores(data)\n",
    "pair2test = calc_rating_scores(answers)\n",
    "\n",
    "pair2gold_no_rev = calc_rating_scores(data_no_rev)\n",
    "pair2test_no_rev = calc_rating_scores(answers_no_rev)"
   ]
  },
  {
   "cell_type": "code",
   "execution_count": 78,
   "metadata": {},
   "outputs": [],
   "source": [
    "range_rev_df = reversal_df.copy()\n",
    "range_rev_df['original_pair'] = range_rev_df['pair'].apply(lambda x: x.split(':')[1] + ':' + x.split(':')[0])\n",
    "range_rev_df['test_score'] = range_rev_df['original_pair'].apply(lambda x: pair2test[x])\n",
    "range_rev_df['gold_score'] = range_rev_df['pair'].apply(lambda x: pair2gold[x])\n",
    "range_rev_df['SE'] = range_rev_df.apply(lambda x: (x['test_score'] - x['gold_score']) ** 2, axis=1)\n",
    "rmse_score = np.sqrt(range_rev_df['SE'].mean())"
   ]
  },
  {
   "cell_type": "code",
   "execution_count": 79,
   "metadata": {},
   "outputs": [
    {
     "data": {
      "text/plain": [
       "59.157206209846436"
      ]
     },
     "execution_count": 79,
     "metadata": {},
     "output_type": "execute_result"
    }
   ],
   "source": [
    "rmse_score"
   ]
  },
  {
   "cell_type": "code",
   "execution_count": null,
   "metadata": {},
   "outputs": [],
   "source": []
  }
 ],
 "metadata": {
  "kernelspec": {
   "display_name": "base",
   "language": "python",
   "name": "python3"
  },
  "language_info": {
   "codemirror_mode": {
    "name": "ipython",
    "version": 3
   },
   "file_extension": ".py",
   "mimetype": "text/x-python",
   "name": "python",
   "nbconvert_exporter": "python",
   "pygments_lexer": "ipython3",
   "version": "3.9.13"
  }
 },
 "nbformat": 4,
 "nbformat_minor": 2
}
