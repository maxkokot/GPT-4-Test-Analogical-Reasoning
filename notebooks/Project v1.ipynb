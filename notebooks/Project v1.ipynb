{
  "cells": [
    {
      "cell_type": "code",
      "execution_count": 2,
      "metadata": {
        "colab": {
          "base_uri": "https://localhost:8080/"
        },
        "id": "K14b9S8HR8sV",
        "outputId": "e57e347d-f9b5-42cc-9fd6-b991c5c59249"
      },
      "outputs": [
        {
          "output_type": "stream",
          "name": "stdout",
          "text": [
            "Archive:  data.zip\n",
            "   creating: Examples/\n",
            "  inflating: Examples/MaxDiffRandom-1a.txt  \n",
            "  inflating: Examples/TurkerScaled-1a.txt  \n",
            "  inflating: Examples/RandomMaxDiff-1a.txt  \n",
            "  inflating: Examples/RandomScaled-1a.txt  \n",
            "  inflating: Examples/SpearmanRandomScaled-1a.txt  \n",
            "  inflating: examples.sh             \n",
            "  inflating: maxdiff_to_scale.pl     \n",
            "  inflating: Proposal.pdf            \n",
            "  inflating: Questionnaire.pdf       \n",
            "  inflating: random_scale.pl         \n",
            "  inflating: README-scripts.txt      \n",
            "  inflating: README.txt              \n",
            "  inflating: reversals.txt           \n",
            "  inflating: scale_to_maxdiff.pl     \n",
            "  inflating: score_maxdiff.pl        \n",
            "  inflating: score_scale.pl          \n",
            "  inflating: subcategories-definitions.txt  \n",
            "  inflating: subcategories-list.txt  \n",
            "  inflating: subcategories-paradigms.txt  \n",
            "  inflating: subcategories-training.txt  \n",
            "  inflating: summary.xls             \n",
            "  inflating: Taxonomy.pdf            \n",
            "  inflating: Taxonomy.txt            \n",
            "   creating: Testing/\n",
            "   creating: Testing/Phase1Answers/\n",
            "  inflating: Testing/Phase1Answers/Phase1Answers-10e.txt  \n",
            "  inflating: Testing/Phase1Answers/Phase1Answers-5g.txt  \n",
            "  inflating: Testing/Phase1Answers/Phase1Answers-6c.txt  \n",
            "  inflating: Testing/Phase1Answers/Phase1Answers-1b.txt  \n",
            "  inflating: Testing/Phase1Answers/Phase1Answers-4b.txt  \n",
            "  inflating: Testing/Phase1Answers/Phase1Answers-3e.txt  \n",
            "  inflating: Testing/Phase1Answers/Phase1Answers-9h.txt  \n",
            "  inflating: Testing/Phase1Answers/Phase1Answers-3f.txt  \n",
            "  inflating: Testing/Phase1Answers/Phase1Answers-8c.txt  \n",
            "  inflating: Testing/Phase1Answers/Phase1Answers-5c.txt  \n",
            "  inflating: Testing/Phase1Answers/Phase1Answers-2j.txt  \n",
            "  inflating: Testing/Phase1Answers/Phase1Answers-6f.txt  \n",
            "  inflating: Testing/Phase1Answers/Phase1Answers-8g.txt  \n",
            "  inflating: Testing/Phase1Answers/Phase1Answers-9c.txt  \n",
            "  inflating: Testing/Phase1Answers/Phase1Answers-8b.txt  \n",
            "  inflating: Testing/Phase1Answers/Phase1Answers-7c.txt  \n",
            "  inflating: Testing/Phase1Answers/Phase1Answers-2e.txt  \n",
            "  inflating: Testing/Phase1Answers/Phase1Answers-9d.txt  \n",
            "  inflating: Testing/Phase1Answers/Phase1Answers-4d.txt  \n",
            "  inflating: Testing/Phase1Answers/Phase1Answers-6b.txt  \n",
            "  inflating: Testing/Phase1Answers/Phase1Answers-9g.txt  \n",
            "  inflating: Testing/Phase1Answers/Phase1Answers-4f.txt  \n",
            "  inflating: Testing/Phase1Answers/Phase1Answers-4g.txt  \n",
            "  inflating: Testing/Phase1Answers/Phase1Answers-6d.txt  \n",
            "  inflating: Testing/Phase1Answers/Phase1Answers-9i.txt  \n",
            "  inflating: Testing/Phase1Answers/Phase1Answers-4h.txt  \n",
            "  inflating: Testing/Phase1Answers/Phase1Answers-5h.txt  \n",
            "  inflating: Testing/Phase1Answers/Phase1Answers-2i.txt  \n",
            "  inflating: Testing/Phase1Answers/Phase1Answers-2b.txt  \n",
            "  inflating: Testing/Phase1Answers/Phase1Answers-9b.txt  \n",
            "  inflating: Testing/Phase1Answers/Phase1Answers-6h.txt  \n",
            "  inflating: Testing/Phase1Answers/Phase1Answers-5b.txt  \n",
            "  inflating: Testing/Phase1Answers/Phase1Answers-2d.txt  \n",
            "  inflating: Testing/Phase1Answers/Phase1Answers-1e.txt  \n",
            "  inflating: Testing/Phase1Answers/Phase1Answers-9a.txt  \n",
            "  inflating: Testing/Phase1Answers/Phase1Answers-1c.txt  \n",
            "  inflating: Testing/Phase1Answers/Phase1Answers-5a.txt  \n",
            "  inflating: Testing/Phase1Answers/Phase1Answers-7b.txt  \n",
            "  inflating: Testing/Phase1Answers/Phase1Answers-8d.txt  \n",
            "  inflating: Testing/Phase1Answers/Phase1Answers-10f.txt  \n",
            "  inflating: Testing/Phase1Answers/Phase1Answers-2f.txt  \n",
            "  inflating: Testing/Phase1Answers/Phase1Answers-10d.txt  \n",
            "  inflating: Testing/Phase1Answers/Phase1Answers-3d.txt  \n",
            "  inflating: Testing/Phase1Answers/Phase1Answers-1d.txt  \n",
            "  inflating: Testing/Phase1Answers/Phase1Answers-2g.txt  \n",
            "  inflating: Testing/Phase1Answers/Phase1Answers-7d.txt  \n",
            "  inflating: Testing/Phase1Answers/Phase1Answers-10c.txt  \n",
            "  inflating: Testing/Phase1Answers/Phase1Answers-7f.txt  \n",
            "  inflating: Testing/Phase1Answers/Phase1Answers-6a.txt  \n",
            "  inflating: Testing/Phase1Answers/Phase1Answers-9f.txt  \n",
            "  inflating: Testing/Phase1Answers/Phase1Answers-7g.txt  \n",
            "  inflating: Testing/Phase1Answers/Phase1Answers-7e.txt  \n",
            "  inflating: Testing/Phase1Answers/Phase1Answers-8e.txt  \n",
            "  inflating: Testing/Phase1Answers/Phase1Answers-7h.txt  \n",
            "  inflating: Testing/Phase1Answers/Phase1Answers-3b.txt  \n",
            "  inflating: Testing/Phase1Answers/Phase1Answers-8f.txt  \n",
            "  inflating: Testing/Phase1Answers/Phase1Answers-6e.txt  \n",
            "  inflating: Testing/Phase1Answers/Phase1Answers-4e.txt  \n",
            "  inflating: Testing/Phase1Answers/Phase1Answers-4a.txt  \n",
            "  inflating: Testing/Phase1Answers/Phase1Answers-8a.txt  \n",
            "  inflating: Testing/Phase1Answers/Phase1Answers-9e.txt  \n",
            "  inflating: Testing/Phase1Answers/Phase1Answers-3h.txt  \n",
            "  inflating: Testing/Phase1Answers/Phase1Answers-3g.txt  \n",
            "  inflating: Testing/Phase1Answers/Phase1Answers-8h.txt  \n",
            "  inflating: Testing/Phase1Answers/Phase1Answers-5f.txt  \n",
            "  inflating: Testing/Phase1Answers/Phase1Answers-10b.txt  \n",
            "  inflating: Testing/Phase1Answers/Phase1Answers-5e.txt  \n",
            "  inflating: Testing/Phase1Answers/Phase1Answers-6g.txt  \n",
            "  inflating: Testing/Phase1Answers/Phase1Answers-2a.txt  \n",
            "   creating: Testing/Phase1Questions/\n",
            "  inflating: Testing/Phase1Questions/Phase1Questions-6g.txt  \n",
            "  inflating: Testing/Phase1Questions/Phase1Questions-4f.txt  \n",
            "  inflating: Testing/Phase1Questions/Phase1Questions-9d.txt  \n",
            "  inflating: Testing/Phase1Questions/Phase1Questions-4e.txt  \n",
            "  inflating: Testing/Phase1Questions/Phase1Questions-1e.txt  \n",
            "  inflating: Testing/Phase1Questions/Phase1Questions-2j.txt  \n",
            "  inflating: Testing/Phase1Questions/Phase1Questions-8d.txt  \n",
            "  inflating: Testing/Phase1Questions/Phase1Questions-9g.txt  \n",
            "  inflating: Testing/Phase1Questions/Phase1Questions-7d.txt  \n",
            "  inflating: Testing/Phase1Questions/Phase1Questions-2d.txt  \n",
            "  inflating: Testing/Phase1Questions/Phase1Questions-9c.txt  \n",
            "  inflating: Testing/Phase1Questions/Phase1Questions-9a.txt  \n",
            "  inflating: Testing/Phase1Questions/Phase1Questions-9b.txt  \n",
            "  inflating: Testing/Phase1Questions/Phase1Questions-8a.txt  \n",
            "  inflating: Testing/Phase1Questions/Phase1Questions-9e.txt  \n",
            "  inflating: Testing/Phase1Questions/Phase1Questions-3g.txt  \n",
            "  inflating: Testing/Phase1Questions/Phase1Questions-8f.txt  \n",
            "  inflating: Testing/Phase1Questions/Phase1Questions-8e.txt  \n",
            "  inflating: Testing/Phase1Questions/Phase1Questions-8h.txt  \n",
            "  inflating: Testing/Phase1Questions/Phase1Questions-4a.txt  \n",
            "  inflating: Testing/Phase1Questions/Phase1Questions-5f.txt  \n",
            "  inflating: Testing/Phase1Questions/Phase1Questions-3f.txt  \n",
            "  inflating: Testing/Phase1Questions/Phase1Questions-2f.txt  \n",
            "  inflating: Testing/Phase1Questions/Phase1Questions-2e.txt  \n",
            "  inflating: Testing/Phase1Questions/Phase1Questions-10e.txt  \n",
            "  inflating: Testing/Phase1Questions/Phase1Questions-6f.txt  \n",
            "  inflating: Testing/Phase1Questions/Phase1Questions-8g.txt  \n",
            "  inflating: Testing/Phase1Questions/Phase1Questions-1d.txt  \n",
            "  inflating: Testing/Phase1Questions/Phase1Questions-5e.txt  \n",
            "  inflating: Testing/Phase1Questions/Phase1Questions-2b.txt  \n",
            "  inflating: Testing/Phase1Questions/Phase1Questions-8b.txt  \n",
            "  inflating: Testing/Phase1Questions/Phase1Questions-6h.txt  \n",
            "  inflating: Testing/Phase1Questions/Phase1Questions-7h.txt  \n",
            "  inflating: Testing/Phase1Questions/Phase1Questions-10c.txt  \n",
            "  inflating: Testing/Phase1Questions/Phase1Questions-9f.txt  \n",
            "  inflating: Testing/Phase1Questions/Phase1Questions-5g.txt  \n",
            "  inflating: Testing/Phase1Questions/Phase1Questions-7c.txt  \n",
            "  inflating: Testing/Phase1Questions/Phase1Questions-9i.txt  \n",
            "  inflating: Testing/Phase1Questions/Phase1Questions-9h.txt  \n",
            "  inflating: Testing/Phase1Questions/Phase1Questions-4d.txt  \n",
            "  inflating: Testing/Phase1Questions/Phase1Questions-3e.txt  \n",
            "  inflating: Testing/Phase1Questions/Phase1Questions-1c.txt  \n",
            "  inflating: Testing/Phase1Questions/Phase1Questions-4g.txt  \n",
            "  inflating: Testing/Phase1Questions/Phase1Questions-2g.txt  \n",
            "  inflating: Testing/Phase1Questions/Phase1Questions-6e.txt  \n",
            "  inflating: Testing/Phase1Questions/Phase1Questions-6c.txt  \n",
            "  inflating: Testing/Phase1Questions/Phase1Questions-3b.txt  \n",
            "  inflating: Testing/Phase1Questions/Phase1Questions-2a.txt  \n",
            "  inflating: Testing/Phase1Questions/Phase1Questions-6b.txt  \n",
            "  inflating: Testing/Phase1Questions/Phase1Questions-6a.txt  \n",
            "  inflating: Testing/Phase1Questions/Phase1Questions-5h.txt  \n",
            "  inflating: Testing/Phase1Questions/Phase1Questions-5b.txt  \n",
            "  inflating: Testing/Phase1Questions/Phase1Questions-8c.txt  \n",
            "  inflating: Testing/Phase1Questions/Phase1Questions-10f.txt  \n",
            "  inflating: Testing/Phase1Questions/Phase1Questions-3h.txt  \n",
            "  inflating: Testing/Phase1Questions/Phase1Questions-7e.txt  \n",
            "  inflating: Testing/Phase1Questions/Phase1Questions-6d.txt  \n",
            "  inflating: Testing/Phase1Questions/Phase1Questions-7f.txt  \n",
            "  inflating: Testing/Phase1Questions/Phase1Questions-4h.txt  \n",
            "  inflating: Testing/Phase1Questions/Phase1Questions-7g.txt  \n",
            "  inflating: Testing/Phase1Questions/Phase1Questions-10b.txt  \n",
            "  inflating: Testing/Phase1Questions/Phase1Questions-2i.txt  \n",
            "  inflating: Testing/Phase1Questions/Phase1Questions-1b.txt  \n",
            "  inflating: Testing/Phase1Questions/Phase1Questions-7b.txt  \n",
            "  inflating: Testing/Phase1Questions/Phase1Questions-5a.txt  \n",
            "  inflating: Testing/Phase1Questions/Phase1Questions-5c.txt  \n",
            "  inflating: Testing/Phase1Questions/Phase1Questions-4b.txt  \n",
            "  inflating: Testing/Phase1Questions/Phase1Questions-3d.txt  \n",
            "  inflating: Testing/Phase1Questions/Phase1Questions-10d.txt  \n",
            "   creating: Testing/Phase2Questions/\n",
            "  inflating: Testing/Phase2Questions/Phase2Questions-6c.txt  \n",
            "  inflating: Testing/Phase2Questions/Phase2Questions-7g.txt  \n",
            "  inflating: Testing/Phase2Questions/Phase2Questions-9d.txt  \n",
            "  inflating: Testing/Phase2Questions/Phase2Questions-6a.txt  \n",
            "  inflating: Testing/Phase2Questions/Phase2Questions-5b.txt  \n",
            "  inflating: Testing/Phase2Questions/Phase2Questions-9c.txt  \n",
            "  inflating: Testing/Phase2Questions/Phase2Questions-2e.txt  \n",
            "  inflating: Testing/Phase2Questions/Phase2Questions-7f.txt  \n",
            "  inflating: Testing/Phase2Questions/Phase2Questions-1b.txt  \n",
            "  inflating: Testing/Phase2Questions/Phase2Questions-9h.txt  \n",
            "  inflating: Testing/Phase2Questions/Phase2Questions-2i.txt  \n",
            "  inflating: Testing/Phase2Questions/Phase2Questions-6b.txt  \n",
            "  inflating: Testing/Phase2Questions/Phase2Questions-3g.txt  \n",
            "  inflating: Testing/Phase2Questions/Phase2Questions-6f.txt  \n",
            "  inflating: Testing/Phase2Questions/Phase2Questions-1c.txt  \n",
            "  inflating: Testing/Phase2Questions/Phase2Questions-9e.txt  \n",
            "  inflating: Testing/Phase2Questions/Phase2Questions-7e.txt  \n",
            "  inflating: Testing/Phase2Questions/Phase2Questions-5h.txt  \n",
            "  inflating: Testing/Phase2Questions/Phase2Questions-6g.txt  \n",
            "  inflating: Testing/Phase2Questions/Phase2Questions-4h.txt  \n",
            "  inflating: Testing/Phase2Questions/Phase2Questions-8h.txt  \n",
            "  inflating: Testing/Phase2Questions/Phase2Questions-4e.txt  \n",
            "  inflating: Testing/Phase2Questions/Phase2Questions-8g.txt  \n",
            "  inflating: Testing/Phase2Questions/Phase2Questions-3e.txt  \n",
            "  inflating: Testing/Phase2Questions/Phase2Questions-8e.txt  \n",
            "  inflating: Testing/Phase2Questions/Phase2Questions-6h.txt  \n",
            "  inflating: Testing/Phase2Questions/Phase2Questions-8c.txt  \n",
            "  inflating: Testing/Phase2Questions/Phase2Questions-3h.txt  \n",
            "  inflating: Testing/Phase2Questions/Phase2Questions-5a.txt  \n",
            "  inflating: Testing/Phase2Questions/Phase2Questions-4b.txt  \n",
            "  inflating: Testing/Phase2Questions/Phase2Questions-1d.txt  \n",
            "  inflating: Testing/Phase2Questions/Phase2Questions-1e.txt  \n",
            "  inflating: Testing/Phase2Questions/Phase2Questions-5e.txt  \n",
            "  inflating: Testing/Phase2Questions/Phase2Questions-10b.txt  \n",
            "  inflating: Testing/Phase2Questions/Phase2Questions-7b.txt  \n",
            "  inflating: Testing/Phase2Questions/Phase2Questions-4g.txt  \n",
            "  inflating: Testing/Phase2Questions/Phase2Questions-2d.txt  \n",
            "  inflating: Testing/Phase2Questions/Phase2Questions-10d.txt  \n",
            "  inflating: Testing/Phase2Questions/Phase2Questions-8d.txt  \n",
            "  inflating: Testing/Phase2Questions/Phase2Questions-9b.txt  \n",
            "  inflating: Testing/Phase2Questions/Phase2Questions-3b.txt  \n",
            "  inflating: Testing/Phase2Questions/Phase2Questions-10c.txt  \n",
            "  inflating: Testing/Phase2Questions/Phase2Questions-9g.txt  \n",
            "  inflating: Testing/Phase2Questions/Phase2Questions-10f.txt  \n",
            "  inflating: Testing/Phase2Questions/Phase2Questions-2g.txt  \n",
            "  inflating: Testing/Phase2Questions/Phase2Questions-2b.txt  \n",
            "  inflating: Testing/Phase2Questions/Phase2Questions-10e.txt  \n",
            "  inflating: Testing/Phase2Questions/Phase2Questions-6e.txt  \n",
            "  inflating: Testing/Phase2Questions/Phase2Questions-5f.txt  \n",
            "  inflating: Testing/Phase2Questions/Phase2Questions-2j.txt  \n",
            "  inflating: Testing/Phase2Questions/Phase2Questions-2f.txt  \n",
            "  inflating: Testing/Phase2Questions/Phase2Questions-4f.txt  \n",
            "  inflating: Testing/Phase2Questions/Phase2Questions-4d.txt  \n",
            "  inflating: Testing/Phase2Questions/Phase2Questions-8f.txt  \n",
            "  inflating: Testing/Phase2Questions/Phase2Questions-3f.txt  \n",
            "  inflating: Testing/Phase2Questions/Phase2Questions-7d.txt  \n",
            "  inflating: Testing/Phase2Questions/Phase2Questions-9a.txt  \n",
            "  inflating: Testing/Phase2Questions/Phase2Questions-9f.txt  \n",
            "  inflating: Testing/Phase2Questions/Phase2Questions-9i.txt  \n",
            "  inflating: Testing/Phase2Questions/Phase2Questions-3d.txt  \n",
            "  inflating: Testing/Phase2Questions/Phase2Questions-4a.txt  \n",
            "  inflating: Testing/Phase2Questions/Phase2Questions-5c.txt  \n",
            "  inflating: Testing/Phase2Questions/Phase2Questions-8b.txt  \n",
            "  inflating: Testing/Phase2Questions/Phase2Questions-8a.txt  \n",
            "  inflating: Testing/Phase2Questions/Phase2Questions-5g.txt  \n",
            "  inflating: Testing/Phase2Questions/Phase2Questions-7c.txt  \n",
            "  inflating: Testing/Phase2Questions/Phase2Questions-6d.txt  \n",
            "  inflating: Testing/Phase2Questions/Phase2Questions-2a.txt  \n",
            "  inflating: Testing/Phase2Questions/Phase2Questions-7h.txt  \n",
            "   creating: Testing/Phase2Answers/\n",
            "  inflating: Testing/Phase2Answers/Phase2Answers-9d.txt  \n",
            "  inflating: Testing/Phase2Answers/Phase2Answers-9g.txt  \n",
            "  inflating: Testing/Phase2Answers/Phase2Answers-7d.txt  \n",
            "  inflating: Testing/Phase2Answers/Phase2Answers-10f.txt  \n",
            "  inflating: Testing/Phase2Answers/Phase2Answers-2b.txt  \n",
            "  inflating: Testing/Phase2Answers/Phase2Answers-7h.txt  \n",
            "  inflating: Testing/Phase2Answers/Phase2Answers-10b.txt  \n",
            "  inflating: Testing/Phase2Answers/Phase2Answers-4f.txt  \n",
            "  inflating: Testing/Phase2Answers/Phase2Answers-9c.txt  \n",
            "  inflating: Testing/Phase2Answers/Phase2Answers-1d.txt  \n",
            "  inflating: Testing/Phase2Answers/Phase2Answers-8d.txt  \n",
            "  inflating: Testing/Phase2Answers/Phase2Answers-9a.txt  \n",
            "  inflating: Testing/Phase2Answers/Phase2Answers-6c.txt  \n",
            "  inflating: Testing/Phase2Answers/Phase2Answers-4a.txt  \n",
            "  inflating: Testing/Phase2Answers/Phase2Answers-9e.txt  \n",
            "  inflating: Testing/Phase2Answers/Phase2Answers-1e.txt  \n",
            "  inflating: Testing/Phase2Answers/Phase2Answers-7f.txt  \n",
            "  inflating: Testing/Phase2Answers/Phase2Answers-2a.txt  \n",
            "  inflating: Testing/Phase2Answers/Phase2Answers-6d.txt  \n",
            "  inflating: Testing/Phase2Answers/Phase2Answers-6h.txt  \n",
            "  inflating: Testing/Phase2Answers/Phase2Answers-6b.txt  \n",
            "  inflating: Testing/Phase2Answers/Phase2Answers-9b.txt  \n",
            "  inflating: Testing/Phase2Answers/Phase2Answers-2g.txt  \n",
            "  inflating: Testing/Phase2Answers/Phase2Answers-8g.txt  \n",
            "  inflating: Testing/Phase2Answers/Phase2Answers-1b.txt  \n",
            "  inflating: Testing/Phase2Answers/Phase2Answers-7c.txt  \n",
            "  inflating: Testing/Phase2Answers/Phase2Answers-2i.txt  \n",
            "  inflating: Testing/Phase2Answers/Phase2Answers-2f.txt  \n",
            "  inflating: Testing/Phase2Answers/Phase2Answers-5a.txt  \n",
            "  inflating: Testing/Phase2Answers/Phase2Answers-2d.txt  \n",
            "  inflating: Testing/Phase2Answers/Phase2Answers-4d.txt  \n",
            "  inflating: Testing/Phase2Answers/Phase2Answers-10d.txt  \n",
            "  inflating: Testing/Phase2Answers/Phase2Answers-2j.txt  \n",
            "  inflating: Testing/Phase2Answers/Phase2Answers-9h.txt  \n",
            "  inflating: Testing/Phase2Answers/Phase2Answers-5b.txt  \n",
            "  inflating: Testing/Phase2Answers/Phase2Answers-7b.txt  \n",
            "  inflating: Testing/Phase2Answers/Phase2Answers-3e.txt  \n",
            "  inflating: Testing/Phase2Answers/Phase2Answers-10e.txt  \n",
            "  inflating: Testing/Phase2Answers/Phase2Answers-5e.txt  \n",
            "  inflating: Testing/Phase2Answers/Phase2Answers-3g.txt  \n",
            "  inflating: Testing/Phase2Answers/Phase2Answers-4e.txt  \n",
            "  inflating: Testing/Phase2Answers/Phase2Answers-6a.txt  \n",
            "  inflating: Testing/Phase2Answers/Phase2Answers-8b.txt  \n",
            "  inflating: Testing/Phase2Answers/Phase2Answers-4g.txt  \n",
            "  inflating: Testing/Phase2Answers/Phase2Answers-5h.txt  \n",
            "  inflating: Testing/Phase2Answers/Phase2Answers-5f.txt  \n",
            "  inflating: Testing/Phase2Answers/Phase2Answers-5c.txt  \n",
            "  inflating: Testing/Phase2Answers/Phase2Answers-2e.txt  \n",
            "  inflating: Testing/Phase2Answers/Phase2Answers-7g.txt  \n",
            "  inflating: Testing/Phase2Answers/Phase2Answers-4b.txt  \n",
            "  inflating: Testing/Phase2Answers/Phase2Answers-7e.txt  \n",
            "  inflating: Testing/Phase2Answers/Phase2Answers-6e.txt  \n",
            "  inflating: Testing/Phase2Answers/Phase2Answers-3h.txt  \n",
            "  inflating: Testing/Phase2Answers/Phase2Answers-9i.txt  \n",
            "  inflating: Testing/Phase2Answers/Phase2Answers-8c.txt  \n",
            "  inflating: Testing/Phase2Answers/Phase2Answers-1c.txt  \n",
            "  inflating: Testing/Phase2Answers/Phase2Answers-9f.txt  \n",
            "  inflating: Testing/Phase2Answers/Phase2Answers-8a.txt  \n",
            "  inflating: Testing/Phase2Answers/Phase2Answers-8f.txt  \n",
            "  inflating: Testing/Phase2Answers/Phase2Answers-4h.txt  \n",
            "  inflating: Testing/Phase2Answers/Phase2Answers-3d.txt  \n",
            "  inflating: Testing/Phase2Answers/Phase2Answers-10c.txt  \n",
            "  inflating: Testing/Phase2Answers/Phase2Answers-8e.txt  \n",
            "  inflating: Testing/Phase2Answers/Phase2Answers-3f.txt  \n",
            "  inflating: Testing/Phase2Answers/Phase2Answers-6f.txt  \n",
            "  inflating: Testing/Phase2Answers/Phase2Answers-5g.txt  \n",
            "  inflating: Testing/Phase2Answers/Phase2Answers-3b.txt  \n",
            "  inflating: Testing/Phase2Answers/Phase2Answers-8h.txt  \n",
            "  inflating: Testing/Phase2Answers/Phase2Answers-6g.txt  \n",
            "   creating: Training/\n",
            "   creating: Training/Phase1Answers/\n",
            "  inflating: Training/Phase1Answers/Phase1Answers-5i.txt  \n",
            "  inflating: Training/Phase1Answers/Phase1Answers-3a.txt  \n",
            "  inflating: Training/Phase1Answers/Phase1Answers-2c.txt  \n",
            "  inflating: Training/Phase1Answers/Phase1Answers-2h.txt  \n",
            "  inflating: Training/Phase1Answers/Phase1Answers-3c.txt  \n",
            "  inflating: Training/Phase1Answers/Phase1Answers-10a.txt  \n",
            "  inflating: Training/Phase1Answers/Phase1Answers-4c.txt  \n",
            "  inflating: Training/Phase1Answers/Phase1Answers-1a.txt  \n",
            "  inflating: Training/Phase1Answers/Phase1Answers-5d.txt  \n",
            "  inflating: Training/Phase1Answers/Phase1Answers-7a.txt  \n",
            "   creating: Training/Phase1Questions/\n",
            "  inflating: Training/Phase1Questions/Phase1Questions-1a.txt  \n",
            "  inflating: Training/Phase1Questions/Phase1Questions-7a.txt  \n",
            "  inflating: Training/Phase1Questions/Phase1Questions-2c.txt  \n",
            "  inflating: Training/Phase1Questions/Phase1Questions-5i.txt  \n",
            "  inflating: Training/Phase1Questions/Phase1Questions-3c.txt  \n",
            "  inflating: Training/Phase1Questions/Phase1Questions-2h.txt  \n",
            "  inflating: Training/Phase1Questions/Phase1Questions-5d.txt  \n",
            "  inflating: Training/Phase1Questions/Phase1Questions-10a.txt  \n",
            "  inflating: Training/Phase1Questions/Phase1Questions-3a.txt  \n",
            "  inflating: Training/Phase1Questions/Phase1Questions-4c.txt  \n",
            "   creating: Training/Phase2Questions/\n",
            "  inflating: Training/Phase2Questions/Phase2Questions-3a.txt  \n",
            "  inflating: Training/Phase2Questions/Phase2Questions-3c.txt  \n",
            "  inflating: Training/Phase2Questions/Phase2Questions-2h.txt  \n",
            "  inflating: Training/Phase2Questions/Phase2Questions-10a.txt  \n",
            "  inflating: Training/Phase2Questions/Phase2Questions-7a.txt  \n",
            "  inflating: Training/Phase2Questions/Phase2Questions-5i.txt  \n",
            "  inflating: Training/Phase2Questions/Phase2Questions-5d.txt  \n",
            "  inflating: Training/Phase2Questions/Phase2Questions-1a.txt  \n",
            "  inflating: Training/Phase2Questions/Phase2Questions-2c.txt  \n",
            "  inflating: Training/Phase2Questions/Phase2Questions-4c.txt  \n",
            "   creating: Training/Phase2Answers/\n",
            "  inflating: Training/Phase2Answers/Phase2Answers-2c.txt  \n",
            "  inflating: Training/Phase2Answers/Phase2Answers-4c.txt  \n",
            "  inflating: Training/Phase2Answers/Phase2Answers-1a.txt  \n",
            "  inflating: Training/Phase2Answers/Phase2Answers-5i.txt  \n",
            "  inflating: Training/Phase2Answers/Phase2Answers-2h.txt  \n",
            "  inflating: Training/Phase2Answers/Phase2Answers-7a.txt  \n",
            "  inflating: Training/Phase2Answers/Phase2Answers-5d.txt  \n",
            "  inflating: Training/Phase2Answers/Phase2Answers-3a.txt  \n",
            "  inflating: Training/Phase2Answers/Phase2Answers-10a.txt  \n",
            "  inflating: Training/Phase2Answers/Phase2Answers-3c.txt  \n"
          ]
        }
      ],
      "source": [
        "import os\n",
        "import re\n",
        "import random\n",
        "#from openai import OpenAI\n",
        "#from dotenv import load_dotenv , find_dotenv\n",
        "\n",
        "!unzip data.zip"
      ]
    },
    {
      "cell_type": "markdown",
      "metadata": {
        "id": "SUN4Fnl2R8sd"
      },
      "source": [
        "## Prepare questionnaires"
      ]
    },
    {
      "cell_type": "code",
      "execution_count": 3,
      "metadata": {
        "id": "yg1tM_C2R8sl"
      },
      "outputs": [],
      "source": [
        "RAW_DATA_DIR = 'Training/'\n",
        "PROCESSED_DATA_DIR = 'Training/'\n",
        "\n",
        "PH1_INTRO = 'Phase 1: Generating Pairs\\nTitle: Generate examples of a given relation\\nDescription: Given an examples of related word pairs, create three new analogous examples.\\nKeywords: analogy, English, word relations, semantics, similarity\\nInstructions:\\n(1) This survey will be used to better understand relations between words. Your input is much appreciated.\\n(2) If any of the questions in a HIT are unanswered, then the assignment is no longer useful to us and we will be unable to pay for the assignment.\\n(3) Skip a HIT if you do not know the meanings of the words.\\n(4) Attempt HITs only if you are a native speaker of English or very fluent in English.\\n(5) Certain check questions will be used to make sure your input is responsible and reasonable. HITs that fail these tests will be rejected. If you fail too many check questions, then it will be assumed that you are not following instructions (3) and/or (4) above, and ALL of your HITs will be rejected.\\n(6) Question 1 asks you to identify the relation that is shared by a set of word pairs. For example, consider the following set of word pairs: traffic:street, water:riverbed, data:network, electricity:wire, hikers:trail. Each of these X:Y pairs shares the relation “X flows on/in/over/through a Y”.\\n(7) Question 2 asks you to generate four more word pairs with the same relation as the pairs in Question 1. For example, effluent:sewer, blood:artery, oil:pipeline, gossip:grapevine.\\n\\nSample HIT:\\n\\n'\n",
        "PH2_INTRO = 'Phase 2: Rating Pairs\\nTitle: Select the most and least illustrative examples of a given relation\\nDescription: Given an example word pair, rate other word pairs according to the similarity of their relations to the relation illustrated in the given example.\\nKeywords: analogy, English, word relations, semantics, similarity, rating\\nInstructions:\\n(1) This survey will be used to better understand relations between words. Your input is much appreciated.\\n(2) If any of the questions in a HIT are unanswered, then the assignment is no longer useful to us and webwill be unable to pay for the assignment.\\n(3) Skip a HIT if you do not know the meanings of the words.\\n(4) Attempt HITs only if you are a native speaker of English or very fluent in English.\\n(5) Certain check questions will be used to make sure your input is responsible and reasonable. HITs that fail these tests will be rejected. If you fail too many check questions, then it will be assumed that you are not following instructions (3) and/or (4) above, and ALL of your HITs will be rejected.(6) Question 1 asks you to identify the relation that is shared by a set of word pairs. For example, consider the following set of word pairs: traffic:street, water:riverbed, data:network, electricity:wire, hikers:trail. Each of these X:Y pairs shares the relation “X flows on/in/over/through a Y”.\\n(7) Question 2 asks you to select from a set of four pairs the pairs that are most and least illustrative of a given relation.\\n\\nSample HIT:\\n\\n'\n",
        "PH1Q2 = 'Question 2: Consider the following word pairs:\\n\\n{}\\n\\nThese X:Y pairs share a relation, “X R Y ”. Give four additional word pairs that illustrate the same relation, in the same order (X on the left, Y on the right). Please do not use phrases composed of two or more words in your examples (e.g., “racing car”). Please do not use names of people, places, or things in your examples (e.g., “Europe”, “Kleenex”).\\n\\n'\n",
        "PH2Q2 = 'Question 2: Consider the following word pairs:{}. These X:Y pairs share a relation, “X R Y”. Now consider the following word pairs:\\n\\n{}\\n\\nWhich of the above numbered word pairs is the MOST illustrative example of the same relation “X R Y”?\\n____\\nWhich of the above numbered word pairs is the LEAST illustrative example of the same relation “X R Y”?\\n____\\nNote: In some cases, a word pair might be in reverse order. For example, tree:forest is in reverse order for the relation \"X is made from a collection of Y\". The correct order would be forest:tree; a forest is made from a collection of trees. You should treat reversed pairs as BAD examples of the given relation.'"
      ]
    },
    {
      "cell_type": "code",
      "execution_count": 4,
      "metadata": {
        "id": "yyJy7ivgR8st"
      },
      "outputs": [],
      "source": [
        "contains = os.listdir(RAW_DATA_DIR)\n",
        "\n",
        "ph1_dir = list(filter(lambda x: 'Phase1' in x, contains))\n",
        "ph2_dir = list(filter(lambda x: 'Phase2' in x, contains))\n",
        "\n",
        "ph1_questions_dir = list(filter(lambda x: 'Questions' in x, ph1_dir))\n",
        "ph2_questions_dir = list(filter(lambda x: 'Questions' in x, ph2_dir))"
      ]
    },
    {
      "cell_type": "code",
      "execution_count": 5,
      "metadata": {
        "id": "wcFWbaKNR8sw"
      },
      "outputs": [],
      "source": [
        "ph1_questions_dir_path = os.path.join(RAW_DATA_DIR, ph1_questions_dir[0])\n",
        "ph2_questions_dir_path = os.path.join(RAW_DATA_DIR, ph2_questions_dir[0])"
      ]
    },
    {
      "cell_type": "code",
      "execution_count": 6,
      "metadata": {
        "id": "3oaugFTCR8sz"
      },
      "outputs": [],
      "source": [
        "ph1_questions_files = os.listdir(ph1_questions_dir_path)\n",
        "ph2_questions_files = os.listdir(ph2_questions_dir_path)"
      ]
    },
    {
      "cell_type": "code",
      "execution_count": 7,
      "metadata": {
        "id": "bkzINYbsR8s1"
      },
      "outputs": [],
      "source": [
        "ph1_question_file = os.path.join(RAW_DATA_DIR, ph1_questions_dir[0], ph1_questions_files[0])\n",
        "ph2_question_file = os.path.join(RAW_DATA_DIR, ph2_questions_dir[0], ph2_questions_files[0])"
      ]
    },
    {
      "cell_type": "code",
      "execution_count": 8,
      "metadata": {
        "id": "CbQKNQf7R8s3"
      },
      "outputs": [],
      "source": [
        "with open(ph1_question_file, 'r') as f:\n",
        "    question_1 = f.read()"
      ]
    },
    {
      "cell_type": "code",
      "execution_count": 9,
      "metadata": {
        "id": "uRDYFfCzR8s4"
      },
      "outputs": [],
      "source": [
        "with open(ph2_question_file, 'r') as f:\n",
        "    question_2 = f.read()"
      ]
    },
    {
      "cell_type": "code",
      "execution_count": 10,
      "metadata": {
        "id": "1DNQkrzDR8s6"
      },
      "outputs": [],
      "source": [
        "questions_phase_1 = {}\n",
        "\n",
        "for file_name in ph1_questions_files:\n",
        "    idx = re.findall('[0-9]+[a-z]', file_name)[0]\n",
        "    file_path = os.path.join(RAW_DATA_DIR, ph1_questions_dir[0], file_name)\n",
        "    with open(file_path, 'r') as f:\n",
        "        question = f.read()\n",
        "    questions_phase_1[idx] = question\n",
        "\n",
        "questions_phase_2 = {}\n",
        "\n",
        "for file_name in ph2_questions_files:\n",
        "    idx = re.findall('[0-9]+[a-z]', file_name)[0]\n",
        "    file_path = os.path.join(RAW_DATA_DIR, ph2_questions_dir[0], file_name)\n",
        "    with open(file_path, 'r') as f:\n",
        "        question = f.read()\n",
        "    questions_phase_2[idx] = question"
      ]
    },
    {
      "cell_type": "code",
      "execution_count": 11,
      "metadata": {
        "id": "T5J-EoNtR8s8"
      },
      "outputs": [],
      "source": [
        "def prepare_phase_1_question_1(str_file):\n",
        "\n",
        "    # remove correct answer\n",
        "    prepared_question = re.sub('\\n*Correct Answer(.|\\n)*', '', str_file)\n",
        "\n",
        "    # remove topic\n",
        "    prepared_question = re.sub('Question.*\\n*', '', prepared_question)\n",
        "    prepared_question = f'Question 1: ' + prepared_question\n",
        "\n",
        "    # add (a), (b), (c) and so forth\n",
        "    intro, options = prepared_question.split('?\\n\\n')\n",
        "    options = options.split('\\n')\n",
        "    options = [f'({i + 1}) {options[i]}' for i in range(len(options))]\n",
        "\n",
        "    prepared_question = intro + '?\\n\\n' + '\\n'.join(options) + '\\n\\n'\n",
        "\n",
        "\n",
        "    return prepared_question\n",
        "\n",
        "\n",
        "def prepare_phase_1_question_2(str_file):\n",
        "\n",
        "    # extract pairs\n",
        "    pairs = re.findall('[a-z]+:[a-z]+', str_file)\n",
        "    pairs = '\\n'.join(pairs)\n",
        "\n",
        "    prepared_question = PH1Q2.format(pairs)\n",
        "    return prepared_question\n",
        "\n",
        "def prepare_phase_2_question_2(str_file):\n",
        "\n",
        "    # same as 1st phase\n",
        "    return prepare_phase_1_question_1(str_file)\n",
        "\n",
        "def prepare_phase_2_question_2(str_file_1, str_file_2):\n",
        "\n",
        "    # extract pairs\n",
        "    query_pairs = re.findall('[a-z]+:[a-z]+', str_file_1)\n",
        "    query_pairs = ', '.join(query_pairs)\n",
        "\n",
        "    # randomly select 4 possible answers\n",
        "    answers_list = str_file_2.split('\\n')\n",
        "    responce_pairs = random.choice(answers_list)\n",
        "    responce_pairs = responce_pairs.split(',')\n",
        "    responce_pairs = [f'({i + 1}) {responce_pairs[i]}' for i in range(len(responce_pairs))]\n",
        "    responce_pairs = '\\n'.join(responce_pairs)\n",
        "\n",
        "    prepared_question = PH2Q2.format(query_pairs, responce_pairs)\n",
        "    return prepared_question"
      ]
    },
    {
      "cell_type": "code",
      "execution_count": 12,
      "metadata": {
        "id": "mUDbGbAPR8s-"
      },
      "outputs": [],
      "source": [
        "for idx in questions_phase_2.keys():\n",
        "    ph1q1 = prepare_phase_1_question_1(questions_phase_1[idx])\n",
        "    ph1q2 = prepare_phase_1_question_2(questions_phase_1[idx])\n",
        "    ph2q2 = prepare_phase_2_question_2(questions_phase_1[idx],\n",
        "                                       questions_phase_2[idx])\n",
        "    questionnaire = PH1_INTRO + ph1q1 + ph1q2 + PH2_INTRO + ph1q1 + ph1q2\n",
        "\n",
        "    with open(os.path.join(PROCESSED_DATA_DIR, f'Questionnaire-{idx}.txt'), 'w') as f:\n",
        "        f.write(questionnaire)"
      ]
    },
    {
      "cell_type": "markdown",
      "source": [
        "### Scanning for creating new files with and without most/least illustrative"
      ],
      "metadata": {
        "id": "HvIdviMBhYa4"
      }
    },
    {
      "cell_type": "code",
      "source": [
        "from collections import defaultdict\n",
        "\n",
        "def parse_and_save_unique_lines(input_file, output_file):\n",
        "    grouped_lines = defaultdict(list)\n",
        "\n",
        "    with open(input_file, 'r') as file:\n",
        "        for line in file:\n",
        "            columns = line.strip().split('\\t')\n",
        "            key = tuple(columns[:4])  # The first four columns as the key\n",
        "            grouped_lines[key].append(columns)\n",
        "\n",
        "    unique_lines = []\n",
        "\n",
        "    for key, lines in grouped_lines.items():\n",
        "        relation = lines[0][-1]  # Assuming the relation is the same for all lines in the group\n",
        "        line_to_save = '\\t'.join(key) + '\\t' + relation\n",
        "        unique_lines.append(line_to_save)\n",
        "\n",
        "    # Write to the output file\n",
        "    with open(output_file, 'w') as file:\n",
        "        for line in unique_lines:\n",
        "            file.write(line + '\\n')\n",
        "\n",
        "# Usage example\n",
        "parse_and_save_unique_lines('/content/Training/Phase2Answers/Phase2Answers-1a.txt', 'output_first_file_example.txt')"
      ],
      "metadata": {
        "id": "0sbESd00dNJx"
      },
      "execution_count": 21,
      "outputs": []
    },
    {
      "cell_type": "code",
      "source": [
        "from collections import defaultdict, Counter\n",
        "\n",
        "def parse_and_save_with_frequency(input_file, output_file):\n",
        "    grouped_lines = defaultdict(list)\n",
        "\n",
        "    with open(input_file, 'r') as file:\n",
        "        for line in file:\n",
        "            columns = line.strip().split('\\t')\n",
        "            key = tuple(columns[:4])  # The first four columns as the key\n",
        "            grouped_lines[key].append(columns)\n",
        "\n",
        "    unique_lines_with_frequency = []\n",
        "\n",
        "    for key, lines in grouped_lines.items():\n",
        "        # Count the frequency of 'most illustrative' and 'least illustrative'\n",
        "        most_freq = Counter(line[4] for line in lines).most_common(1)[0][0]\n",
        "        least_freq = Counter(line[5] for line in lines).most_common(1)[0][0]\n",
        "        relation = lines[0][-1]  # Assuming the relation is the same for all lines in the group\n",
        "\n",
        "        # Create the line to be saved\n",
        "        line_to_save = '\\t'.join(key) + '\\t' + most_freq + '\\t' + least_freq + '\\t' + relation\n",
        "        unique_lines_with_frequency.append(line_to_save)\n",
        "\n",
        "    # Write to the output file\n",
        "    with open(output_file, 'w') as file:\n",
        "        for line in unique_lines_with_frequency:\n",
        "            file.write(line + '\\n')\n",
        "\n",
        "# Usage example\n",
        "parse_and_save_with_frequency('/content/Training/Phase2Answers/Phase2Answers-1a.txt', 'output_first_file_example_with_mostleast.txt')"
      ],
      "metadata": {
        "id": "e0DCrA46gBp7"
      },
      "execution_count": 19,
      "outputs": []
    },
    {
      "cell_type": "markdown",
      "source": [
        "Then comparison of the answers"
      ],
      "metadata": {
        "id": "dd7mi87UjgPD"
      }
    },
    {
      "cell_type": "code",
      "source": [
        "def parse_illustrative_pairs(file_path):\n",
        "    most_illustrative = []\n",
        "    least_illustrative = []\n",
        "\n",
        "    with open(file_path, 'r') as file:\n",
        "        for line in file:\n",
        "            parts = line.strip().split(',')\n",
        "            most = parts[0].split(': ')[1].strip('\"')\n",
        "            least = parts[1].split(': ')[1].strip('\"')\n",
        "\n",
        "            most_illustrative.append(most)\n",
        "            least_illustrative.append(least)\n",
        "\n",
        "    return most_illustrative, least_illustrative\n",
        "\n",
        "# Usage example\n",
        "most_ill, least_ill = parse_illustrative_pairs('gpt_answers_train_1a.txt')\n",
        "\n",
        "def parse_output_file(output_file):\n",
        "    most_illustrative = []\n",
        "    least_illustrative = []\n",
        "\n",
        "    with open(output_file, 'r') as file:\n",
        "        for line in file:\n",
        "            columns = line.strip().split('\\t')\n",
        "            # Check if quotes are present and remove them\n",
        "            most = columns[-3].replace('\"', '')  # Correcting the order if needed and removing quotes\n",
        "            least = columns[-2].replace('\"', '')  # Correcting the order if needed and removing quotes\n",
        "\n",
        "            most_illustrative.append(most)\n",
        "            least_illustrative.append(least)\n",
        "\n",
        "    return most_illustrative, least_illustrative\n",
        "\n",
        "# Usage example\n",
        "most_ill_output, least_ill_output = parse_output_file('output_first_file_example_with_mostleast.txt')\n",
        "most_ill_output = most_ill_output[1::]\n",
        "least_ill_output = least_ill_output[1::]"
      ],
      "metadata": {
        "id": "uBTOr7-djjea"
      },
      "execution_count": 35,
      "outputs": []
    },
    {
      "cell_type": "code",
      "source": [
        "print(len(most_ill))\n",
        "print(len(most_ill_output))\n",
        "print(len(least_ill))\n",
        "print(len(least_ill_output))\n",
        "\n",
        "print(most_ill[:20])\n",
        "print(most_ill_output[:20])\n",
        "print(least_ill[:20])\n",
        "print(least_ill_output[:20])\n",
        "\n",
        "# Assuming most_ill and least_ill_output are your two lists\n",
        "same_count_most = sum(m == l for m, l in zip(most_ill, least_ill_output))\n",
        "print(\"Same items in the same positions for most_ill and least_ill_output:\", same_count_most)\n",
        "\n",
        "# Assuming least_ill and most_ill_output are your two lists\n",
        "same_count_least = sum(m == l for m, l in zip(least_ill, most_ill_output))\n",
        "print(\"Same items in the same positions for least_ill and most_ill_output:\", same_count_least)"
      ],
      "metadata": {
        "colab": {
          "base_uri": "https://localhost:8080/"
        },
        "id": "KIh7ycyuj8NF",
        "outputId": "e56b2d7d-88b9-4a2b-feb6-67da58b6c222"
      },
      "execution_count": 40,
      "outputs": [
        {
          "output_type": "stream",
          "name": "stdout",
          "text": [
            "103\n",
            "103\n",
            "103\n",
            "103\n",
            "['vegetable:carrot', 'dog:poodle', 'mammal:porpoise', 'currency:dollar', 'politician:senator', 'dog:poodle', 'dog:chihuahua', 'dog:chihuahua', 'mammal:porpoise', 'dog:pet', 'bird:robin', 'car:mustang', 'pet:dog', 'rodent:mouse', 'politician:senator', 'car:mustang', 'animal:carabao', 'clothing:shirt', 'dog:poodle', 'mammal:porpoise']\n",
            "['oak:tree', 'sweater:knit', 'bread:wheat', 'dollar:currency', 'wheat:bread', 'oak:tree', 'dog:pet', 'wheat:bread', 'hair:brown', 'bush:azalea', 'song:opera', 'car:mustang', 'school:university', 'sweater:knit', 'politician:senator', 'oak:tree', 'furniture:chair', 'color:red', 'dog:poodle', 'dollar:currency']\n",
            "['currency:dollar', 'sweater:knit', 'bread:wheat', 'dollar:currency', 'wheat:bread', 'oak:tree', 'dog:pet', 'wheat:bread', 'art:abstract', 'clothing:shirt', 'song:opera', 'school:university', 'school:university', 'clothing:shirt', 'color:red', 'oak:tree', 'oak:tree', 'color:red', 'appliance:refrigerator', 'color:red']\n",
            "['tree:oak', 'tree:oak', 'furniture:chair', 'bird:swan', 'automobile:van', 'furniture:couch', 'dog:chihuahua', 'dog:chihuahua', 'footwear:boot', 'jewelry:ring', 'bird:robin', 'clothing:shirt', 'fruit:grape', 'clothing:shirt', 'color:red', 'car:mustang', 'furniture:chair', 'tree:oak', 'appliance:refrigerator', 'color:red']\n",
            "Same items in the same positions for most_ill and least_ill_output: 30\n",
            "Same items in the same positions for least_ill and most_ill_output: 38\n"
          ]
        }
      ]
    },
    {
      "cell_type": "markdown",
      "metadata": {
        "id": "GhsrsQQDR8s_"
      },
      "source": [
        "## Send requests"
      ]
    },
    {
      "cell_type": "code",
      "execution_count": 15,
      "metadata": {
        "id": "I55t17AER8tC",
        "colab": {
          "base_uri": "https://localhost:8080/",
          "height": 193
        },
        "outputId": "fa391b02-c1d7-4f7e-d6ee-154305c0e679"
      },
      "outputs": [
        {
          "output_type": "error",
          "ename": "NameError",
          "evalue": "ignored",
          "traceback": [
            "\u001b[0;31m---------------------------------------------------------------------------\u001b[0m",
            "\u001b[0;31mNameError\u001b[0m                                 Traceback (most recent call last)",
            "\u001b[0;32m<ipython-input-15-744a36ce8a3d>\u001b[0m in \u001b[0;36m<cell line: 2>\u001b[0;34m()\u001b[0m\n\u001b[1;32m      1\u001b[0m \u001b[0;31m# this loads your open api key from .env file\u001b[0m\u001b[0;34m\u001b[0m\u001b[0;34m\u001b[0m\u001b[0m\n\u001b[0;32m----> 2\u001b[0;31m \u001b[0m_\u001b[0m \u001b[0;34m=\u001b[0m \u001b[0mload_dotenv\u001b[0m\u001b[0;34m(\u001b[0m\u001b[0mfind_dotenv\u001b[0m\u001b[0;34m(\u001b[0m\u001b[0;34m)\u001b[0m\u001b[0;34m)\u001b[0m\u001b[0;34m\u001b[0m\u001b[0;34m\u001b[0m\u001b[0m\n\u001b[0m",
            "\u001b[0;31mNameError\u001b[0m: name 'load_dotenv' is not defined"
          ]
        }
      ],
      "source": [
        "# this loads your open api key from .env file\n",
        "_ = load_dotenv(find_dotenv())"
      ]
    },
    {
      "cell_type": "code",
      "execution_count": null,
      "metadata": {
        "id": "9Abmz44WR8tD"
      },
      "outputs": [],
      "source": [
        "client = OpenAI()"
      ]
    },
    {
      "cell_type": "code",
      "execution_count": null,
      "metadata": {
        "id": "tmXhWhEkR8tD"
      },
      "outputs": [],
      "source": [
        "with open(os.path.join(PROCESSED_DATA_DIR, f'Questionnaire-1a.txt'), 'r') as f:\n",
        "    questionnaire = f.read()"
      ]
    },
    {
      "cell_type": "code",
      "execution_count": null,
      "metadata": {
        "id": "kscjJz7bR8tE"
      },
      "outputs": [],
      "source": [
        "def send_request(message):\n",
        "    body = [{\"role\": \"user\", \"content\": message}]\n",
        "    response = client.chat.completions.create(\n",
        "                                              model=\"gpt-3.5-turbo\",\n",
        "                                              messages=body\n",
        "                                              )\n",
        "    return response.choices[0].message[\"content\"].strip()"
      ]
    },
    {
      "cell_type": "code",
      "execution_count": null,
      "metadata": {
        "id": "x3OSOecGR8tF"
      },
      "outputs": [],
      "source": [
        "send_request(questionnaire)"
      ]
    },
    {
      "cell_type": "code",
      "execution_count": null,
      "metadata": {
        "id": "2RSbgo4GR8tI"
      },
      "outputs": [],
      "source": []
    }
  ],
  "metadata": {
    "kernelspec": {
      "display_name": "base",
      "language": "python",
      "name": "python3"
    },
    "language_info": {
      "codemirror_mode": {
        "name": "ipython",
        "version": 3
      },
      "file_extension": ".py",
      "mimetype": "text/x-python",
      "name": "python",
      "nbconvert_exporter": "python",
      "pygments_lexer": "ipython3",
      "version": "3.9.13"
    },
    "colab": {
      "provenance": []
    }
  },
  "nbformat": 4,
  "nbformat_minor": 0
}