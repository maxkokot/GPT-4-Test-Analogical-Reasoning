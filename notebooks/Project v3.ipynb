{
 "cells": [
  {
   "cell_type": "code",
   "execution_count": 1,
   "metadata": {},
   "outputs": [],
   "source": [
    "import os\n",
    "import re\n",
    "import random\n",
    "import pandas as pd\n",
    "from openai import OpenAI\n",
    "from dotenv import load_dotenv , find_dotenv"
   ]
  },
  {
   "cell_type": "code",
   "execution_count": 71,
   "metadata": {},
   "outputs": [],
   "source": [
    "PH2ANS_DIR = '../data/raw/Testing/Phase2Answers'\n",
    "PH1QUE_DIR = '../data/raw/Testing/Phase1Questions'\n",
    "\n",
    "Q_TEMPLATE = 'Consider the following word pairs: {}. These X:Y pairs share a relation, “X R Y”. Now consider the following word pairs:\\n\\n{}\\n\\nWhich of the above numbered word pairs is the MOST illustrative example of the same relation “X R Y”? Which of the above numbered word pairs is the LEAST illustrative example of the same relation “X R Y”?'\n",
    "Q_BATCH_TEMPLATE = 'Consider the following word pairs: {}. These X:Y pairs share a relation, “X R Y”. Now consider the following strings which consist of 4 word pairs:\\n\\n{}\\n\\nFor each string, which of the numbered word pairs is the MOST illustrative example of the same relation “X R Y”? For each string, which of the numbered word pairs is the LEAST illustrative example of the same relation “X R Y”?'\n",
    "BATCH_SIZE = 20"
   ]
  },
  {
   "cell_type": "markdown",
   "metadata": {},
   "source": [
    "## Read data"
   ]
  },
  {
   "cell_type": "code",
   "execution_count": 38,
   "metadata": {},
   "outputs": [],
   "source": [
    "lst_files = os.listdir(PH2ANS_DIR)\n",
    "\n",
    "# select the 1st file\n",
    "file_name = lst_files[0]\n",
    "idx = re.findall('[0-9]+[a-z]', file_name)[0]"
   ]
  },
  {
   "cell_type": "code",
   "execution_count": 36,
   "metadata": {},
   "outputs": [
    {
     "data": {
      "text/plain": [
       "'Phase2Answers-6g.txt'"
      ]
     },
     "execution_count": 36,
     "metadata": {},
     "output_type": "execute_result"
    }
   ],
   "source": [
    "file_name"
   ]
  },
  {
   "cell_type": "code",
   "execution_count": 39,
   "metadata": {},
   "outputs": [
    {
     "data": {
      "text/plain": [
       "'6g'"
      ]
     },
     "execution_count": 39,
     "metadata": {},
     "output_type": "execute_result"
    }
   ],
   "source": [
    "idx"
   ]
  },
  {
   "cell_type": "code",
   "execution_count": 31,
   "metadata": {},
   "outputs": [],
   "source": [
    "data = pd.read_csv(os.path.join(PH2ANS_DIR, file_name), sep='\\t')\n",
    "data = data.rename({'# pair1': 'pair1'}, axis='columns')"
   ]
  },
  {
   "cell_type": "code",
   "execution_count": 32,
   "metadata": {},
   "outputs": [
    {
     "data": {
      "text/html": [
       "<div>\n",
       "<style scoped>\n",
       "    .dataframe tbody tr th:only-of-type {\n",
       "        vertical-align: middle;\n",
       "    }\n",
       "\n",
       "    .dataframe tbody tr th {\n",
       "        vertical-align: top;\n",
       "    }\n",
       "\n",
       "    .dataframe thead th {\n",
       "        text-align: right;\n",
       "    }\n",
       "</style>\n",
       "<table border=\"1\" class=\"dataframe\">\n",
       "  <thead>\n",
       "    <tr style=\"text-align: right;\">\n",
       "      <th></th>\n",
       "      <th>pair1</th>\n",
       "      <th>pair2</th>\n",
       "      <th>pair3</th>\n",
       "      <th>pair4</th>\n",
       "      <th>least_illustrative</th>\n",
       "      <th>most_illustrative</th>\n",
       "      <th>user_selected_relation</th>\n",
       "    </tr>\n",
       "  </thead>\n",
       "  <tbody>\n",
       "    <tr>\n",
       "      <th>0</th>\n",
       "      <td>listen:loudly</td>\n",
       "      <td>watch:blindly</td>\n",
       "      <td>run:slowly</td>\n",
       "      <td>piece:bunch</td>\n",
       "      <td>piece:bunch</td>\n",
       "      <td>listen:loudly</td>\n",
       "      <td>X cannot be done in a Y manner</td>\n",
       "    </tr>\n",
       "    <tr>\n",
       "      <th>1</th>\n",
       "      <td>listen:loudly</td>\n",
       "      <td>watch:blindly</td>\n",
       "      <td>run:slowly</td>\n",
       "      <td>piece:bunch</td>\n",
       "      <td>piece:bunch</td>\n",
       "      <td>watch:blindly</td>\n",
       "      <td>X cannot be done in a Y manner</td>\n",
       "    </tr>\n",
       "    <tr>\n",
       "      <th>2</th>\n",
       "      <td>listen:loudly</td>\n",
       "      <td>watch:blindly</td>\n",
       "      <td>run:slowly</td>\n",
       "      <td>piece:bunch</td>\n",
       "      <td>piece:bunch</td>\n",
       "      <td>listen:loudly</td>\n",
       "      <td>X cannot be done in a Y manner</td>\n",
       "    </tr>\n",
       "    <tr>\n",
       "      <th>3</th>\n",
       "      <td>listen:loudly</td>\n",
       "      <td>watch:blindly</td>\n",
       "      <td>run:slowly</td>\n",
       "      <td>piece:bunch</td>\n",
       "      <td>piece:bunch</td>\n",
       "      <td>listen:loudly</td>\n",
       "      <td>X cannot be done in a Y manner</td>\n",
       "    </tr>\n",
       "    <tr>\n",
       "      <th>4</th>\n",
       "      <td>listen:loudly</td>\n",
       "      <td>watch:blindly</td>\n",
       "      <td>run:slowly</td>\n",
       "      <td>piece:bunch</td>\n",
       "      <td>listen:loudly</td>\n",
       "      <td>watch:blindly</td>\n",
       "      <td>X cannot be done in a Y manner</td>\n",
       "    </tr>\n",
       "  </tbody>\n",
       "</table>\n",
       "</div>"
      ],
      "text/plain": [
       "           pair1          pair2       pair3        pair4 least_illustrative  \\\n",
       "0  listen:loudly  watch:blindly  run:slowly  piece:bunch        piece:bunch   \n",
       "1  listen:loudly  watch:blindly  run:slowly  piece:bunch        piece:bunch   \n",
       "2  listen:loudly  watch:blindly  run:slowly  piece:bunch        piece:bunch   \n",
       "3  listen:loudly  watch:blindly  run:slowly  piece:bunch        piece:bunch   \n",
       "4  listen:loudly  watch:blindly  run:slowly  piece:bunch      listen:loudly   \n",
       "\n",
       "  most_illustrative          user_selected_relation  \n",
       "0     listen:loudly  X cannot be done in a Y manner  \n",
       "1     watch:blindly  X cannot be done in a Y manner  \n",
       "2     listen:loudly  X cannot be done in a Y manner  \n",
       "3     listen:loudly  X cannot be done in a Y manner  \n",
       "4     watch:blindly  X cannot be done in a Y manner  "
      ]
     },
     "execution_count": 32,
     "metadata": {},
     "output_type": "execute_result"
    }
   ],
   "source": [
    "data.head()"
   ]
  },
  {
   "cell_type": "code",
   "execution_count": 14,
   "metadata": {},
   "outputs": [],
   "source": [
    "relation = data.user_selected_relation.unique()[0]"
   ]
  },
  {
   "cell_type": "code",
   "execution_count": 76,
   "metadata": {},
   "outputs": [],
   "source": [
    "# remove duplicates, leave unique options only\n",
    "\n",
    "options_df = data[['pair1', 'pair2', 'pair3', 'pair4']]\n",
    "options_df = options_df.drop_duplicates()\n",
    "\n",
    "for i, colname in enumerate(options_df.columns):\n",
    "    options_df[colname] = options_df[colname].apply(lambda x: f\"({i + 1}) {x}\")"
   ]
  },
  {
   "cell_type": "code",
   "execution_count": 78,
   "metadata": {},
   "outputs": [
    {
     "data": {
      "text/html": [
       "<div>\n",
       "<style scoped>\n",
       "    .dataframe tbody tr th:only-of-type {\n",
       "        vertical-align: middle;\n",
       "    }\n",
       "\n",
       "    .dataframe tbody tr th {\n",
       "        vertical-align: top;\n",
       "    }\n",
       "\n",
       "    .dataframe thead th {\n",
       "        text-align: right;\n",
       "    }\n",
       "</style>\n",
       "<table border=\"1\" class=\"dataframe\">\n",
       "  <thead>\n",
       "    <tr style=\"text-align: right;\">\n",
       "      <th></th>\n",
       "      <th>pair1</th>\n",
       "      <th>pair2</th>\n",
       "      <th>pair3</th>\n",
       "      <th>pair4</th>\n",
       "    </tr>\n",
       "  </thead>\n",
       "  <tbody>\n",
       "    <tr>\n",
       "      <th>0</th>\n",
       "      <td>(1) listen:loudly</td>\n",
       "      <td>(2) watch:blindly</td>\n",
       "      <td>(3) run:slowly</td>\n",
       "      <td>(4) piece:bunch</td>\n",
       "    </tr>\n",
       "    <tr>\n",
       "      <th>5</th>\n",
       "      <td>(1) peace:war</td>\n",
       "      <td>(2) whisper:loudly</td>\n",
       "      <td>(3) fight:delicately</td>\n",
       "      <td>(4) yell:calmly</td>\n",
       "    </tr>\n",
       "    <tr>\n",
       "      <th>10</th>\n",
       "      <td>(1) kill:safely</td>\n",
       "      <td>(2) shine:dimly</td>\n",
       "      <td>(3) knowingly:guess</td>\n",
       "      <td>(4) glare:nicely</td>\n",
       "    </tr>\n",
       "    <tr>\n",
       "      <th>15</th>\n",
       "      <td>(1) defiantly:cooperate</td>\n",
       "      <td>(2) fail:successfully</td>\n",
       "      <td>(3) run:slowly</td>\n",
       "      <td>(4) obliterate:build</td>\n",
       "    </tr>\n",
       "    <tr>\n",
       "      <th>20</th>\n",
       "      <td>(1) guess:knowingly</td>\n",
       "      <td>(2) sleep:alertly</td>\n",
       "      <td>(3) fight:delicately</td>\n",
       "      <td>(4) speed:slowly</td>\n",
       "    </tr>\n",
       "  </tbody>\n",
       "</table>\n",
       "</div>"
      ],
      "text/plain": [
       "                      pair1                  pair2                 pair3  \\\n",
       "0         (1) listen:loudly      (2) watch:blindly        (3) run:slowly   \n",
       "5             (1) peace:war     (2) whisper:loudly  (3) fight:delicately   \n",
       "10          (1) kill:safely        (2) shine:dimly   (3) knowingly:guess   \n",
       "15  (1) defiantly:cooperate  (2) fail:successfully        (3) run:slowly   \n",
       "20      (1) guess:knowingly      (2) sleep:alertly  (3) fight:delicately   \n",
       "\n",
       "                   pair4  \n",
       "0        (4) piece:bunch  \n",
       "5        (4) yell:calmly  \n",
       "10      (4) glare:nicely  \n",
       "15  (4) obliterate:build  \n",
       "20      (4) speed:slowly  "
      ]
     },
     "execution_count": 78,
     "metadata": {},
     "output_type": "execute_result"
    }
   ],
   "source": [
    "options_df.head()"
   ]
  },
  {
   "cell_type": "code",
   "execution_count": 45,
   "metadata": {},
   "outputs": [],
   "source": [
    "# read examples for the question\n",
    "\n",
    "q_name = f\"Phase1Questions-{idx}.txt\"\n",
    "q_path = os.path.join(PH1QUE_DIR, q_name)\n",
    "with open(q_path, 'r') as f:\n",
    "    question = f.read()\n",
    "\n",
    "# remove correct answer\n",
    "query_pairs = re.findall('[a-z]+:[a-z]+', question)\n",
    "query_pairs = ', '.join(query_pairs)"
   ]
  },
  {
   "cell_type": "code",
   "execution_count": 46,
   "metadata": {},
   "outputs": [
    {
     "data": {
      "text/plain": [
       "'creep:fast, fade:abruptly, scream:quietly, destroy:gently'"
      ]
     },
     "execution_count": 46,
     "metadata": {},
     "output_type": "execute_result"
    }
   ],
   "source": [
    "query_pairs"
   ]
  },
  {
   "cell_type": "markdown",
   "metadata": {},
   "source": [
    "## Formulate and send the questions"
   ]
  },
  {
   "cell_type": "code",
   "execution_count": 79,
   "metadata": {},
   "outputs": [],
   "source": [
    "# 1 question per request\n",
    "\n",
    "for row in options_df.iterrows():\n",
    "    options = row[1].values.tolist()\n",
    "    options = '\\n'.join(options)\n",
    "\n",
    "    req_body = Q_TEMPLATE.format(query_pairs, options)\n",
    "\n",
    "    # TODO: send the questions to GPT-4"
   ]
  },
  {
   "cell_type": "code",
   "execution_count": 91,
   "metadata": {},
   "outputs": [],
   "source": [
    "# batch per request\n",
    "\n",
    "for i in range(0, len(options_df), BATCH_SIZE):\n",
    "    batch_options = options_df.iloc[i:i + BATCH_SIZE].values.tolist()\n",
    "\n",
    "    batch_options = [', '.join(options) for options in batch_options]\n",
    "    batch_options = ';\\n'.join(batch_options)\n",
    "\n",
    "    req_body = Q_BATCH_TEMPLATE.format(query_pairs, batch_options)\n",
    "\n",
    "    # TODO: send the batch questions to GPT-4"
   ]
  },
  {
   "cell_type": "code",
   "execution_count": null,
   "metadata": {},
   "outputs": [],
   "source": []
  }
 ],
 "metadata": {
  "kernelspec": {
   "display_name": "base",
   "language": "python",
   "name": "python3"
  },
  "language_info": {
   "codemirror_mode": {
    "name": "ipython",
    "version": 3
   },
   "file_extension": ".py",
   "mimetype": "text/x-python",
   "name": "python",
   "nbconvert_exporter": "python",
   "pygments_lexer": "ipython3",
   "version": "3.9.13"
  }
 },
 "nbformat": 4,
 "nbformat_minor": 2
}
