{
 "cells": [
  {
   "cell_type": "markdown",
   "metadata": {},
   "source": [
    "# Evaluate answers\n",
    "In this notebook, we collect obtained answers and evaluate their quality based on provided human responces."
   ]
  },
  {
   "cell_type": "code",
   "execution_count": 31,
   "metadata": {},
   "outputs": [],
   "source": [
    "import os\n",
    "import re\n",
    "import pandas as pd\n",
    "import numpy as np\n",
    "from scipy.stats import spearmanr"
   ]
  },
  {
   "cell_type": "code",
   "execution_count": 32,
   "metadata": {},
   "outputs": [],
   "source": [
    "PH2ANS_DIR = '../data/raw/Testing/Phase2Answers' # test questions and answers provided by humans\n",
    "GPTANS_DIR = '../data/interim' # answers obtained from GPT-4\n",
    "CAT_PATH = '../data/raw/subcategories-list.txt' # metadata for storing relation between categories and subcategories\n",
    "REV_PATH = '../data/raw/reversals.txt' # metadata for storing information which pairs are reversals"
   ]
  },
  {
   "cell_type": "code",
   "execution_count": 33,
   "metadata": {},
   "outputs": [],
   "source": [
    "def read_txt_info(path):\n",
    "    with open(path, 'r') as f:\n",
    "        info = f.read()\n",
    "    return info\n",
    "\n",
    "\n",
    "def read_hum_answers(path):\n",
    "    df = pd.read_csv(path, sep='\\t')\n",
    "    df = df.rename({'# pair1': 'pair1'}, axis='columns')\n",
    "    return df\n",
    "\n",
    "\n",
    "def read_gpt_answers(path):\n",
    "    df = pd.read_csv(path, sep=', ',\n",
    "                     names=['pair1', 'pair2',\n",
    "                            'pair3', 'pair4',\n",
    "                            'least_illustrative',\n",
    "                            'most_illustrative'],\n",
    "                     engine='python')\n",
    "    return df\n",
    "\n",
    "\n",
    "def read_cat_info(path):\n",
    "    df = pd.read_csv(path, header=None,\n",
    "                     names=['num', 'letter', 'cat', 'subcat'])\n",
    "    df['file_idx'] = df['num'].astype(str) + \\\n",
    "        df['letter'].apply(lambda x: x.replace(' ', ''))\n",
    "    return df\n",
    "\n",
    "\n",
    "def read_reversals_info(path):\n",
    "    with open(path, 'r') as f:\n",
    "        reversals = f.read()\n",
    "\n",
    "    reversals = reversals.split('original:pair --> reversed:pair')[-1]\n",
    "\n",
    "    idxs = re.findall('[0-9]+[a-z]', reversals)\n",
    "    pairs = re.findall('--> [A-Z, a-z]+:[A-Z, a-z]+', reversals)\n",
    "    pairs = list(map(lambda x: x.split('--> ')[-1], pairs))\n",
    "\n",
    "    reversal_df = pd.DataFrame({'idxs': idxs, 'pair': pairs})\n",
    "    return reversal_df"
   ]
  },
  {
   "cell_type": "code",
   "execution_count": 34,
   "metadata": {},
   "outputs": [],
   "source": [
    "def pairqnum2least(question_data):\n",
    "    df = question_data['least_illustrative'].value_counts()\n",
    "    return df\n",
    "\n",
    "\n",
    "def pairqnum2most(question_data):\n",
    "    return question_data['most_illustrative'].value_counts()"
   ]
  },
  {
   "cell_type": "code",
   "execution_count": 35,
   "metadata": {},
   "outputs": [],
   "source": [
    "def extract_voices(pairs, pair, kind='least'):\n",
    "\n",
    "    global most_data, least_data\n",
    "\n",
    "    if kind == 'least':\n",
    "        ref_data = least_data\n",
    "    else:\n",
    "        ref_data = most_data\n",
    "\n",
    "    multiidx = tuple(np.append(pairs, pair))\n",
    "\n",
    "    if multiidx in ref_data.index:\n",
    "        votes = ref_data.loc[multiidx]\n",
    "    else:\n",
    "        votes = 0\n",
    "\n",
    "    return votes\n",
    "\n",
    "\n",
    "def maxdiff(answer):\n",
    "\n",
    "    least_ans = answer['least_illustrative']\n",
    "    most_ans = answer['most_illustrative']\n",
    "    pairs = answer[['pair1', 'pair2', 'pair3', 'pair4']].values.ravel()\n",
    "\n",
    "    votes_guess_least = extract_voices(pairs, least_ans, kind='least')\n",
    "    votes_guess_most = extract_voices(pairs, most_ans, kind='most')\n",
    "\n",
    "    num_votes_least = []\n",
    "    num_votes_most = []\n",
    "\n",
    "    for pair in pairs:\n",
    "\n",
    "        num_votes_least.append(extract_voices(pairs, pair, kind='least'))\n",
    "        num_votes_most.append(extract_voices(pairs, pair, kind='most'))\n",
    "\n",
    "    max_votes_least = max(num_votes_least)\n",
    "    max_votes_most = max(num_votes_most)\n",
    "\n",
    "    maxdiff_df = answer.copy()\n",
    "    maxdiff_df['num_least_right'] = int(votes_guess_least == max_votes_least)\n",
    "    maxdiff_df['num_least_wrong'] = int(votes_guess_least != max_votes_least)\n",
    "    maxdiff_df['num_most_right'] = int(votes_guess_most == max_votes_most)\n",
    "    maxdiff_df['num_most_wrong'] = int(votes_guess_most != max_votes_most)\n",
    "\n",
    "    return maxdiff_df\n",
    "\n",
    "\n",
    "def calc_maxdiff_acc(rel_data):\n",
    "    acc_all = 100 * (rel_data.num_most_right.sum() +\n",
    "                     rel_data.num_least_right.sum()) \\\n",
    "                        / (2 * len(rel_data))\n",
    "    return acc_all"
   ]
  },
  {
   "cell_type": "code",
   "execution_count": 36,
   "metadata": {},
   "outputs": [],
   "source": [
    "def calc_rating_scores(questions):\n",
    "\n",
    "    '''\n",
    "    calculates golden standard ratings\n",
    "    '''\n",
    "\n",
    "    raveled_pairs = questions[['pair1', 'pair2',\n",
    "                               'pair3', 'pair4']].values.ravel()\n",
    "    all_pairs = np.unique(raveled_pairs)\n",
    "    rating_scores = {}\n",
    "\n",
    "    for pair in all_pairs:\n",
    "        rating_scores[pair] = calc_one_rating(pair, raveled_pairs,\n",
    "                                              questions)\n",
    "\n",
    "    return rating_scores\n",
    "\n",
    "\n",
    "def calc_one_rating(pair, raveled_pairs, questions):\n",
    "\n",
    "    pair_num_least = (questions.least_illustrative == pair).sum()\n",
    "    pair_num_most = (questions.most_illustrative == pair).sum()\n",
    "    pair_num = (raveled_pairs == pair).sum()\n",
    "    pct_least = 100 * pair_num_least / pair_num\n",
    "    pct_most = 100 * pair_num_most / pair_num\n",
    "    score = pct_most - pct_least\n",
    "    return score\n",
    "\n",
    "\n",
    "def calc_spearman(gpt_data_subcat, hum_data):\n",
    "    name_subcat = gpt_data_subcat.user_selected_relation.unique()[0]\n",
    "    hum_data_subcat = hum_data[hum_data['user_selected_relation'] ==\n",
    "                               name_subcat]\n",
    "    pair2gold = calc_rating_scores(hum_data_subcat)\n",
    "    pair2test = calc_rating_scores(gpt_data_subcat)\n",
    "\n",
    "    cor = spearmanr(list(pair2gold.values()),\n",
    "                    list(pair2test.values()))\n",
    "    rho = cor.correlation\n",
    "    pvalue = cor.pvalue\n",
    "\n",
    "    return pd.DataFrame([{'rho': rho, 'pvalue': pvalue}])"
   ]
  },
  {
   "cell_type": "code",
   "execution_count": 37,
   "metadata": {},
   "outputs": [],
   "source": [
    "def find_reversals(question):\n",
    "\n",
    "    global reversal_df\n",
    "\n",
    "    question['with_reversals'] = 0\n",
    "    rel_name = question['user_selected_relation']\n",
    "    pairs = question[['pair1', 'pair2', 'pair3', 'pair4']]\n",
    "    reversals = reversal_df[reversal_df.user_selected_relation ==\n",
    "                            rel_name].pair\n",
    "\n",
    "    if reversals.isin(pairs).sum():\n",
    "        question['with_reversals'] = 1\n",
    "\n",
    "    return question\n",
    "\n",
    "\n",
    "def remove_reversals(data):\n",
    "    data_no_rev = data.apply(lambda x: find_reversals(x), axis=1)\n",
    "    data_no_rev = data_no_rev[data_no_rev['with_reversals'] == 0].\\\n",
    "        reset_index(drop=True)\n",
    "    data_no_rev.drop('with_reversals', axis=1, inplace=True)\n",
    "    return data_no_rev"
   ]
  },
  {
   "cell_type": "markdown",
   "metadata": {},
   "source": [
    "## Evaluate MaxDiff accuracy"
   ]
  },
  {
   "cell_type": "code",
   "execution_count": 38,
   "metadata": {},
   "outputs": [],
   "source": [
    "lst_files = os.listdir(GPTANS_DIR)"
   ]
  },
  {
   "cell_type": "code",
   "execution_count": 39,
   "metadata": {},
   "outputs": [],
   "source": [
    "lst_hum_dfs = []\n",
    "lst_gpt_dfs = []\n",
    "rel_mapping = {}\n",
    "\n",
    "for file_name in lst_files:\n",
    "\n",
    "    idx = re.findall('[0-9]+[a-z]', file_name)[0]\n",
    "    ans_name = f\"Phase2Answers-{idx}.txt\"\n",
    "\n",
    "    # reading answers provived by humans\n",
    "    # on the questions related to\n",
    "    # current subcategory\n",
    "    ans_path = os.path.join(PH2ANS_DIR, ans_name)\n",
    "    hum_df = read_hum_answers(ans_path)\n",
    "    hum_df['file_idx'] = idx\n",
    "    lst_hum_dfs.append(hum_df)\n",
    "\n",
    "    # reading answers provived by GPT\n",
    "    # on the questions related to\n",
    "    # current subcategory\n",
    "    gpt_ans_path = os.path.join(GPTANS_DIR, ans_name)\n",
    "    gpt_df = read_gpt_answers(gpt_ans_path)\n",
    "    # add name of user selected relation\n",
    "    rel_name = hum_df['user_selected_relation'].unique()[0]\n",
    "    gpt_df['user_selected_relation'] = rel_name\n",
    "    gpt_df['file_idx'] = idx\n",
    "    lst_gpt_dfs.append(gpt_df)\n",
    "\n",
    "    # create mapping between file idx and relation name\n",
    "    rel_mapping[idx] = rel_name\n",
    "\n",
    "\n",
    "hum_data = pd.concat(lst_hum_dfs).reset_index(drop=True)\n",
    "gpt_data = pd.concat(lst_gpt_dfs).reset_index(drop=True)"
   ]
  },
  {
   "cell_type": "code",
   "execution_count": 40,
   "metadata": {},
   "outputs": [
    {
     "data": {
      "text/html": [
       "<div>\n",
       "<style scoped>\n",
       "    .dataframe tbody tr th:only-of-type {\n",
       "        vertical-align: middle;\n",
       "    }\n",
       "\n",
       "    .dataframe tbody tr th {\n",
       "        vertical-align: top;\n",
       "    }\n",
       "\n",
       "    .dataframe thead th {\n",
       "        text-align: right;\n",
       "    }\n",
       "</style>\n",
       "<table border=\"1\" class=\"dataframe\">\n",
       "  <thead>\n",
       "    <tr style=\"text-align: right;\">\n",
       "      <th></th>\n",
       "      <th>pair1</th>\n",
       "      <th>pair2</th>\n",
       "      <th>pair3</th>\n",
       "      <th>pair4</th>\n",
       "      <th>least_illustrative</th>\n",
       "      <th>most_illustrative</th>\n",
       "      <th>user_selected_relation</th>\n",
       "      <th>file_idx</th>\n",
       "    </tr>\n",
       "  </thead>\n",
       "  <tbody>\n",
       "    <tr>\n",
       "      <th>0</th>\n",
       "      <td>high:low</td>\n",
       "      <td>around:through</td>\n",
       "      <td>under:over</td>\n",
       "      <td>root:tip</td>\n",
       "      <td>around:through</td>\n",
       "      <td>high:low</td>\n",
       "      <td>X is the opposite direction from Y</td>\n",
       "      <td>4d</td>\n",
       "    </tr>\n",
       "    <tr>\n",
       "      <th>1</th>\n",
       "      <td>ahead:behind</td>\n",
       "      <td>in:out</td>\n",
       "      <td>tip:root</td>\n",
       "      <td>interior:exterior</td>\n",
       "      <td>tip:root</td>\n",
       "      <td>ahead:behind</td>\n",
       "      <td>X is the opposite direction from Y</td>\n",
       "      <td>4d</td>\n",
       "    </tr>\n",
       "    <tr>\n",
       "      <th>2</th>\n",
       "      <td>around:through</td>\n",
       "      <td>backward:forward</td>\n",
       "      <td>north:south</td>\n",
       "      <td>interior:exterior</td>\n",
       "      <td>around:through</td>\n",
       "      <td>north:south</td>\n",
       "      <td>X is the opposite direction from Y</td>\n",
       "      <td>4d</td>\n",
       "    </tr>\n",
       "    <tr>\n",
       "      <th>3</th>\n",
       "      <td>high:low</td>\n",
       "      <td>above:below</td>\n",
       "      <td>backward:forward</td>\n",
       "      <td>stop:go</td>\n",
       "      <td>stop:go</td>\n",
       "      <td>above:below</td>\n",
       "      <td>X is the opposite direction from Y</td>\n",
       "      <td>4d</td>\n",
       "    </tr>\n",
       "    <tr>\n",
       "      <th>4</th>\n",
       "      <td>top:bottom</td>\n",
       "      <td>boring:interesting</td>\n",
       "      <td>sad:happy</td>\n",
       "      <td>interior:exterior</td>\n",
       "      <td>boring:interesting</td>\n",
       "      <td>top:bottom</td>\n",
       "      <td>X is the opposite direction from Y</td>\n",
       "      <td>4d</td>\n",
       "    </tr>\n",
       "  </tbody>\n",
       "</table>\n",
       "</div>"
      ],
      "text/plain": [
       "            pair1               pair2             pair3              pair4  \\\n",
       "0        high:low      around:through        under:over           root:tip   \n",
       "1    ahead:behind              in:out          tip:root  interior:exterior   \n",
       "2  around:through    backward:forward       north:south  interior:exterior   \n",
       "3        high:low         above:below  backward:forward            stop:go   \n",
       "4      top:bottom  boring:interesting         sad:happy  interior:exterior   \n",
       "\n",
       "   least_illustrative most_illustrative              user_selected_relation  \\\n",
       "0      around:through          high:low  X is the opposite direction from Y   \n",
       "1            tip:root      ahead:behind  X is the opposite direction from Y   \n",
       "2      around:through       north:south  X is the opposite direction from Y   \n",
       "3             stop:go       above:below  X is the opposite direction from Y   \n",
       "4  boring:interesting        top:bottom  X is the opposite direction from Y   \n",
       "\n",
       "  file_idx  \n",
       "0       4d  \n",
       "1       4d  \n",
       "2       4d  \n",
       "3       4d  \n",
       "4       4d  "
      ]
     },
     "execution_count": 40,
     "metadata": {},
     "output_type": "execute_result"
    }
   ],
   "source": [
    "gpt_data.head()"
   ]
  },
  {
   "cell_type": "code",
   "execution_count": 41,
   "metadata": {},
   "outputs": [
    {
     "data": {
      "text/html": [
       "<div>\n",
       "<style scoped>\n",
       "    .dataframe tbody tr th:only-of-type {\n",
       "        vertical-align: middle;\n",
       "    }\n",
       "\n",
       "    .dataframe tbody tr th {\n",
       "        vertical-align: top;\n",
       "    }\n",
       "\n",
       "    .dataframe thead th {\n",
       "        text-align: right;\n",
       "    }\n",
       "</style>\n",
       "<table border=\"1\" class=\"dataframe\">\n",
       "  <thead>\n",
       "    <tr style=\"text-align: right;\">\n",
       "      <th></th>\n",
       "      <th>pair1</th>\n",
       "      <th>pair2</th>\n",
       "      <th>pair3</th>\n",
       "      <th>pair4</th>\n",
       "      <th>least_illustrative</th>\n",
       "      <th>most_illustrative</th>\n",
       "      <th>user_selected_relation</th>\n",
       "      <th>file_idx</th>\n",
       "    </tr>\n",
       "  </thead>\n",
       "  <tbody>\n",
       "    <tr>\n",
       "      <th>0</th>\n",
       "      <td>high:low</td>\n",
       "      <td>around:through</td>\n",
       "      <td>under:over</td>\n",
       "      <td>root:tip</td>\n",
       "      <td>around:through</td>\n",
       "      <td>high:low</td>\n",
       "      <td>X is the opposite direction from Y</td>\n",
       "      <td>4d</td>\n",
       "    </tr>\n",
       "    <tr>\n",
       "      <th>1</th>\n",
       "      <td>high:low</td>\n",
       "      <td>around:through</td>\n",
       "      <td>under:over</td>\n",
       "      <td>root:tip</td>\n",
       "      <td>around:through</td>\n",
       "      <td>high:low</td>\n",
       "      <td>X is the opposite direction from Y</td>\n",
       "      <td>4d</td>\n",
       "    </tr>\n",
       "    <tr>\n",
       "      <th>2</th>\n",
       "      <td>high:low</td>\n",
       "      <td>around:through</td>\n",
       "      <td>under:over</td>\n",
       "      <td>root:tip</td>\n",
       "      <td>around:through</td>\n",
       "      <td>high:low</td>\n",
       "      <td>X is the opposite direction from Y</td>\n",
       "      <td>4d</td>\n",
       "    </tr>\n",
       "    <tr>\n",
       "      <th>3</th>\n",
       "      <td>high:low</td>\n",
       "      <td>around:through</td>\n",
       "      <td>under:over</td>\n",
       "      <td>root:tip</td>\n",
       "      <td>around:through</td>\n",
       "      <td>high:low</td>\n",
       "      <td>X is the opposite direction from Y</td>\n",
       "      <td>4d</td>\n",
       "    </tr>\n",
       "    <tr>\n",
       "      <th>4</th>\n",
       "      <td>ahead:behind</td>\n",
       "      <td>in:out</td>\n",
       "      <td>tip:root</td>\n",
       "      <td>interior:exterior</td>\n",
       "      <td>tip:root</td>\n",
       "      <td>ahead:behind</td>\n",
       "      <td>X is the opposite direction from Y</td>\n",
       "      <td>4d</td>\n",
       "    </tr>\n",
       "  </tbody>\n",
       "</table>\n",
       "</div>"
      ],
      "text/plain": [
       "          pair1           pair2       pair3              pair4  \\\n",
       "0      high:low  around:through  under:over           root:tip   \n",
       "1      high:low  around:through  under:over           root:tip   \n",
       "2      high:low  around:through  under:over           root:tip   \n",
       "3      high:low  around:through  under:over           root:tip   \n",
       "4  ahead:behind          in:out    tip:root  interior:exterior   \n",
       "\n",
       "  least_illustrative most_illustrative              user_selected_relation  \\\n",
       "0     around:through          high:low  X is the opposite direction from Y   \n",
       "1     around:through          high:low  X is the opposite direction from Y   \n",
       "2     around:through          high:low  X is the opposite direction from Y   \n",
       "3     around:through          high:low  X is the opposite direction from Y   \n",
       "4           tip:root      ahead:behind  X is the opposite direction from Y   \n",
       "\n",
       "  file_idx  \n",
       "0       4d  \n",
       "1       4d  \n",
       "2       4d  \n",
       "3       4d  \n",
       "4       4d  "
      ]
     },
     "execution_count": 41,
     "metadata": {},
     "output_type": "execute_result"
    }
   ],
   "source": [
    "hum_data.head()"
   ]
  },
  {
   "cell_type": "code",
   "execution_count": 42,
   "metadata": {},
   "outputs": [],
   "source": [
    "# for each question and each pair compute\n",
    "# how many times the pair was selected as least and most illustrative example\n",
    "# for the question\n",
    "# according to human answers\n",
    "\n",
    "least_data = hum_data.groupby(['pair1', 'pair2', 'pair3', 'pair4']).apply(lambda x: pairqnum2least(x))\n",
    "most_data = hum_data.groupby(['pair1', 'pair2', 'pair3', 'pair4']).apply(lambda x: pairqnum2most(x))"
   ]
  },
  {
   "cell_type": "code",
   "execution_count": 43,
   "metadata": {},
   "outputs": [],
   "source": [
    "# calculate intermediate variables for computing maxdiff accuracy\n",
    "\n",
    "maxdiff_data = gpt_data.apply(lambda x: maxdiff(x), axis=1)"
   ]
  },
  {
   "cell_type": "code",
   "execution_count": 44,
   "metadata": {},
   "outputs": [
    {
     "data": {
      "text/plain": [
       "49.271504888528646"
      ]
     },
     "execution_count": 44,
     "metadata": {},
     "output_type": "execute_result"
    }
   ],
   "source": [
    "# calculate maxdiff accuracy\n",
    "\n",
    "# first calculate it across all subcatigories\n",
    "maxdiff_acc_subcat = maxdiff_data.groupby('user_selected_relation').apply(lambda x: calc_maxdiff_acc(x))\n",
    "# then average them\n",
    "maxdiff_acc_avg = maxdiff_acc_subcat.mean()\n",
    "maxdiff_acc_avg"
   ]
  },
  {
   "cell_type": "markdown",
   "metadata": {},
   "source": [
    "## Evaluate Spearman Rank Correllation Coefficient"
   ]
  },
  {
   "cell_type": "code",
   "execution_count": 45,
   "metadata": {},
   "outputs": [],
   "source": [
    "# categories info\n",
    "cat_df = read_cat_info(CAT_PATH)\n",
    "\n",
    "# reversal info\n",
    "reversal_df = read_reversals_info(REV_PATH)\n",
    "reversal_df['user_selected_relation'] = reversal_df['idxs'].map(rel_mapping)\n",
    "reversal_df = reversal_df.dropna()\n",
    "reversal_df = reversal_df.drop('idxs', axis=1)"
   ]
  },
  {
   "cell_type": "markdown",
   "metadata": {},
   "source": [
    "### Across subcategories"
   ]
  },
  {
   "cell_type": "code",
   "execution_count": 46,
   "metadata": {},
   "outputs": [
    {
     "data": {
      "text/html": [
       "<div>\n",
       "<style scoped>\n",
       "    .dataframe tbody tr th:only-of-type {\n",
       "        vertical-align: middle;\n",
       "    }\n",
       "\n",
       "    .dataframe tbody tr th {\n",
       "        vertical-align: top;\n",
       "    }\n",
       "\n",
       "    .dataframe thead th {\n",
       "        text-align: right;\n",
       "    }\n",
       "</style>\n",
       "<table border=\"1\" class=\"dataframe\">\n",
       "  <thead>\n",
       "    <tr style=\"text-align: right;\">\n",
       "      <th></th>\n",
       "      <th></th>\n",
       "      <th>rho</th>\n",
       "      <th>pvalue</th>\n",
       "    </tr>\n",
       "    <tr>\n",
       "      <th>user_selected_relation</th>\n",
       "      <th></th>\n",
       "      <th></th>\n",
       "      <th></th>\n",
       "    </tr>\n",
       "  </thead>\n",
       "  <tbody>\n",
       "    <tr>\n",
       "      <th>X and Y are contrary / opposite to each other</th>\n",
       "      <th>0</th>\n",
       "      <td>0.357606</td>\n",
       "      <td>3.493601e-02</td>\n",
       "    </tr>\n",
       "    <tr>\n",
       "      <th>X is an expression that indicates Y</th>\n",
       "      <th>0</th>\n",
       "      <td>0.738815</td>\n",
       "      <td>5.234404e-08</td>\n",
       "    </tr>\n",
       "    <tr>\n",
       "      <th>X is made of / is comprised of Y</th>\n",
       "      <th>0</th>\n",
       "      <td>0.683619</td>\n",
       "      <td>4.360560e-07</td>\n",
       "    </tr>\n",
       "    <tr>\n",
       "      <th>X is the opposite direction from Y</th>\n",
       "      <th>0</th>\n",
       "      <td>0.796049</td>\n",
       "      <td>1.443225e-07</td>\n",
       "    </tr>\n",
       "    <tr>\n",
       "      <th>a Y is a part of an X</th>\n",
       "      <th>0</th>\n",
       "      <td>0.444778</td>\n",
       "      <td>2.486345e-03</td>\n",
       "    </tr>\n",
       "    <tr>\n",
       "      <th>a Y is one item in a collection/group of X</th>\n",
       "      <th>0</th>\n",
       "      <td>0.667393</td>\n",
       "      <td>1.383984e-06</td>\n",
       "    </tr>\n",
       "    <tr>\n",
       "      <th>an Y receives an X</th>\n",
       "      <th>0</th>\n",
       "      <td>0.583677</td>\n",
       "      <td>1.197870e-04</td>\n",
       "    </tr>\n",
       "    <tr>\n",
       "      <th>someone/something who is X cannot be Y or be in the state of Y</th>\n",
       "      <th>0</th>\n",
       "      <td>0.127958</td>\n",
       "      <td>4.022181e-01</td>\n",
       "    </tr>\n",
       "  </tbody>\n",
       "</table>\n",
       "</div>"
      ],
      "text/plain": [
       "                                                           rho        pvalue\n",
       "user_selected_relation                                                      \n",
       "X and Y are contrary / opposite to each other      0  0.357606  3.493601e-02\n",
       "X is an expression that indicates Y                0  0.738815  5.234404e-08\n",
       "X is made of / is comprised of Y                   0  0.683619  4.360560e-07\n",
       "X is the opposite direction from Y                 0  0.796049  1.443225e-07\n",
       "a Y is a part of an X                              0  0.444778  2.486345e-03\n",
       "a Y is one item in a collection/group of X         0  0.667393  1.383984e-06\n",
       "an Y receives an X                                 0  0.583677  1.197870e-04\n",
       "someone/something who is X cannot be Y or be in... 0  0.127958  4.022181e-01"
      ]
     },
     "execution_count": 46,
     "metadata": {},
     "output_type": "execute_result"
    }
   ],
   "source": [
    "# calculate Spearman Coefficient across all subcategories\n",
    "\n",
    "spearman_df = gpt_data.groupby('user_selected_relation').apply(lambda x: calc_spearman(x, hum_data))\n",
    "spearman_df"
   ]
  },
  {
   "cell_type": "code",
   "execution_count": 47,
   "metadata": {},
   "outputs": [
    {
     "data": {
      "text/plain": [
       "0.5499869250341645"
      ]
     },
     "execution_count": 47,
     "metadata": {},
     "output_type": "execute_result"
    }
   ],
   "source": [
    "spearman_coef = spearman_df.rho.mean()\n",
    "spearman_coef"
   ]
  },
  {
   "cell_type": "markdown",
   "metadata": {},
   "source": [
    "### Across categories"
   ]
  },
  {
   "cell_type": "code",
   "execution_count": 48,
   "metadata": {},
   "outputs": [],
   "source": [
    "spearman_df_cat = cat_df.merge(gpt_data, on='file_idx', how='left')\n",
    "spearman_df_cat = spearman_df_cat[['cat', 'user_selected_relation']].\\\n",
    "    dropna().drop_duplicates()\n",
    "spearman_df_cat = spearman_df_cat.merge(spearman_df.reset_index(),\n",
    "                      on='user_selected_relation', how='left')\n",
    "spearman_df_cat = spearman_df_cat.groupby('cat').apply(lambda x: x['rho'].mean())\n",
    "spearman_df_cat = spearman_df_cat.round(3)"
   ]
  },
  {
   "cell_type": "code",
   "execution_count": 49,
   "metadata": {},
   "outputs": [
    {
     "data": {
      "text/plain": [
       "cat\n",
       " CASE RELATIONS     0.584\n",
       " CLASS-INCLUSION    0.667\n",
       " CONTRAST           0.577\n",
       " NON-ATTRIBUTE      0.128\n",
       " PART-WHOLE         0.564\n",
       " REFERENCE          0.739\n",
       "dtype: float64"
      ]
     },
     "execution_count": 49,
     "metadata": {},
     "output_type": "execute_result"
    }
   ],
   "source": [
    "spearman_df_cat"
   ]
  },
  {
   "cell_type": "markdown",
   "metadata": {},
   "source": [
    "### Removing reversals"
   ]
  },
  {
   "cell_type": "code",
   "execution_count": 50,
   "metadata": {},
   "outputs": [],
   "source": [
    "hum_data_no_rev = remove_reversals(hum_data)\n",
    "gpt_data_no_rev = remove_reversals(gpt_data)"
   ]
  },
  {
   "cell_type": "code",
   "execution_count": 51,
   "metadata": {},
   "outputs": [
    {
     "data": {
      "text/html": [
       "<div>\n",
       "<style scoped>\n",
       "    .dataframe tbody tr th:only-of-type {\n",
       "        vertical-align: middle;\n",
       "    }\n",
       "\n",
       "    .dataframe tbody tr th {\n",
       "        vertical-align: top;\n",
       "    }\n",
       "\n",
       "    .dataframe thead th {\n",
       "        text-align: right;\n",
       "    }\n",
       "</style>\n",
       "<table border=\"1\" class=\"dataframe\">\n",
       "  <thead>\n",
       "    <tr style=\"text-align: right;\">\n",
       "      <th></th>\n",
       "      <th></th>\n",
       "      <th>rho</th>\n",
       "      <th>pvalue</th>\n",
       "    </tr>\n",
       "    <tr>\n",
       "      <th>user_selected_relation</th>\n",
       "      <th></th>\n",
       "      <th></th>\n",
       "      <th></th>\n",
       "    </tr>\n",
       "  </thead>\n",
       "  <tbody>\n",
       "    <tr>\n",
       "      <th>X and Y are contrary / opposite to each other</th>\n",
       "      <th>0</th>\n",
       "      <td>0.353619</td>\n",
       "      <td>0.055237</td>\n",
       "    </tr>\n",
       "    <tr>\n",
       "      <th>X is an expression that indicates Y</th>\n",
       "      <th>0</th>\n",
       "      <td>0.636437</td>\n",
       "      <td>0.000040</td>\n",
       "    </tr>\n",
       "    <tr>\n",
       "      <th>X is made of / is comprised of Y</th>\n",
       "      <th>0</th>\n",
       "      <td>0.678638</td>\n",
       "      <td>0.000003</td>\n",
       "    </tr>\n",
       "    <tr>\n",
       "      <th>X is the opposite direction from Y</th>\n",
       "      <th>0</th>\n",
       "      <td>0.732525</td>\n",
       "      <td>0.000031</td>\n",
       "    </tr>\n",
       "    <tr>\n",
       "      <th>a Y is a part of an X</th>\n",
       "      <th>0</th>\n",
       "      <td>0.485565</td>\n",
       "      <td>0.001728</td>\n",
       "    </tr>\n",
       "    <tr>\n",
       "      <th>a Y is one item in a collection/group of X</th>\n",
       "      <th>0</th>\n",
       "      <td>0.625186</td>\n",
       "      <td>0.000035</td>\n",
       "    </tr>\n",
       "    <tr>\n",
       "      <th>an Y receives an X</th>\n",
       "      <th>0</th>\n",
       "      <td>0.628347</td>\n",
       "      <td>0.000090</td>\n",
       "    </tr>\n",
       "    <tr>\n",
       "      <th>someone/something who is X cannot be Y or be in the state of Y</th>\n",
       "      <th>0</th>\n",
       "      <td>0.171957</td>\n",
       "      <td>0.288694</td>\n",
       "    </tr>\n",
       "  </tbody>\n",
       "</table>\n",
       "</div>"
      ],
      "text/plain": [
       "                                                           rho    pvalue\n",
       "user_selected_relation                                                  \n",
       "X and Y are contrary / opposite to each other      0  0.353619  0.055237\n",
       "X is an expression that indicates Y                0  0.636437  0.000040\n",
       "X is made of / is comprised of Y                   0  0.678638  0.000003\n",
       "X is the opposite direction from Y                 0  0.732525  0.000031\n",
       "a Y is a part of an X                              0  0.485565  0.001728\n",
       "a Y is one item in a collection/group of X         0  0.625186  0.000035\n",
       "an Y receives an X                                 0  0.628347  0.000090\n",
       "someone/something who is X cannot be Y or be in... 0  0.171957  0.288694"
      ]
     },
     "execution_count": 51,
     "metadata": {},
     "output_type": "execute_result"
    }
   ],
   "source": [
    "spearman_no_rev_df = gpt_data_no_rev.groupby('user_selected_relation').\\\n",
    "    apply(lambda x: calc_spearman(x, hum_data_no_rev))\n",
    "spearman_no_rev_df"
   ]
  },
  {
   "cell_type": "code",
   "execution_count": 52,
   "metadata": {},
   "outputs": [
    {
     "data": {
      "text/plain": [
       "0.5390341494360579"
      ]
     },
     "execution_count": 52,
     "metadata": {},
     "output_type": "execute_result"
    }
   ],
   "source": [
    "spearman_no_rev_coef = spearman_no_rev_df.rho.mean()\n",
    "spearman_no_rev_coef"
   ]
  },
  {
   "cell_type": "markdown",
   "metadata": {},
   "source": [
    "We can observemthat adding reversals to dataset doesn’t decrease score of GPT-4. "
   ]
  },
  {
   "cell_type": "markdown",
   "metadata": {},
   "source": [
    "### RMSE error"
   ]
  },
  {
   "cell_type": "markdown",
   "metadata": {},
   "source": [
    "Since GPT-4 identifies reversals, we can evaluate its ability to correctly order them by measurring RMSE error."
   ]
  },
  {
   "cell_type": "code",
   "execution_count": 53,
   "metadata": {},
   "outputs": [],
   "source": [
    "pair2gold = calc_rating_scores(hum_data)\n",
    "pair2test = calc_rating_scores(gpt_data)\n",
    "\n",
    "pair2gold_no_rev = calc_rating_scores(hum_data_no_rev)\n",
    "pair2test_no_rev = calc_rating_scores(gpt_data_no_rev)"
   ]
  },
  {
   "cell_type": "code",
   "execution_count": 54,
   "metadata": {},
   "outputs": [],
   "source": [
    "range_rev_df = reversal_df.copy()\n",
    "# recover original pair from reversal\n",
    "range_rev_df['original_pair'] = range_rev_df['pair'].\\\n",
    "    apply(lambda x: f\"{x.split(':')[1]}:{x.split(':')[0]}\")\n",
    "range_rev_df['test_score'] = range_rev_df['original_pair'].apply(lambda x: pair2test[x])\n",
    "range_rev_df['gold_score'] = range_rev_df['pair'].apply(lambda x: pair2gold[x])\n",
    "range_rev_df['SE'] = (range_rev_df['test_score'] - range_rev_df['gold_score']) ** 2\n",
    "rmse_score = np.sqrt(range_rev_df['SE'].mean())"
   ]
  },
  {
   "cell_type": "code",
   "execution_count": 55,
   "metadata": {},
   "outputs": [
    {
     "data": {
      "text/plain": [
       "59.157206209846436"
      ]
     },
     "execution_count": 55,
     "metadata": {},
     "output_type": "execute_result"
    }
   ],
   "source": [
    "rmse_score"
   ]
  },
  {
   "cell_type": "code",
   "execution_count": null,
   "metadata": {},
   "outputs": [],
   "source": []
  }
 ],
 "metadata": {
  "kernelspec": {
   "display_name": "base",
   "language": "python",
   "name": "python3"
  },
  "language_info": {
   "codemirror_mode": {
    "name": "ipython",
    "version": 3
   },
   "file_extension": ".py",
   "mimetype": "text/x-python",
   "name": "python",
   "nbconvert_exporter": "python",
   "pygments_lexer": "ipython3",
   "version": "3.9.13"
  }
 },
 "nbformat": 4,
 "nbformat_minor": 2
}
